{
 "cells": [
  {
   "cell_type": "code",
   "execution_count": null,
   "metadata": {},
   "outputs": [],
   "source": [
    "from pathlib import Path\n",
    "\n",
    "import pandas as pd\n",
    "import pytorch_lightning as pl\n",
    "import torch\n",
    "from transformers import AutoModelForSequenceClassification, AutoTokenizer\n",
    "\n",
    "from src.data.components.Dataset import GenericDatasetTransformer\n",
    "from src.data.text_processing import TextPreprocessor\n",
    "from src.utils import defines"
   ]
  },
  {
   "cell_type": "code",
   "execution_count": null,
   "metadata": {},
   "outputs": [],
   "source": [
    "train_df = pd.read_csv(Path(defines.INTERIM_DATA_DIR, \"train.csv\"))\n",
    "text_processor = TextPreprocessor()\n",
    "model = AutoModelForSequenceClassification.from_pretrained(\"distilroberta-base\")\n",
    "tokenizer = AutoTokenizer.from_pretrained(\"distilroberta-base\")"
   ]
  },
  {
   "cell_type": "code",
   "execution_count": null,
   "metadata": {},
   "outputs": [],
   "source": [
    "train_df[\"text\"] = text_processor.transform_series(train_df[\"text\"])\n",
    "train_df[\"text\"] = train_df[\"text\"].apply(lambda x: \" \".join(x))"
   ]
  },
  {
   "cell_type": "code",
   "execution_count": null,
   "metadata": {},
   "outputs": [],
   "source": [
    "train_df[\"text_encoded\"] = train_df[\"text\"].apply(\n",
    "    lambda x: tokenizer.encode_plus(\n",
    "        x,\n",
    "        add_special_tokens=True,\n",
    "        max_length=128,\n",
    "        return_token_type_ids=False,\n",
    "        padding=\"max_length\",\n",
    "        truncation=True,\n",
    "        return_attention_mask=True,\n",
    "        return_tensors=\"pt\",\n",
    "    )\n",
    ")"
   ]
  },
  {
   "cell_type": "code",
   "execution_count": null,
   "metadata": {},
   "outputs": [],
   "source": [
    "print(model)"
   ]
  },
  {
   "cell_type": "code",
   "execution_count": null,
   "metadata": {},
   "outputs": [],
   "source": [
    "model"
   ]
  },
  {
   "cell_type": "code",
   "execution_count": null,
   "metadata": {},
   "outputs": [],
   "source": [
    "pl.seed_everything(32)"
   ]
  },
  {
   "cell_type": "code",
   "execution_count": null,
   "metadata": {},
   "outputs": [],
   "source": [
    "model.classifier"
   ]
  },
  {
   "cell_type": "code",
   "execution_count": null,
   "metadata": {},
   "outputs": [],
   "source": [
    "text = train_df[\"text_encoded\"][0][\"input_ids\"]\n",
    "\n",
    "with torch.no_grad():\n",
    "    x = model.roberta(text)\n",
    "    x = model.classifier(x.last_hidden_state)\n",
    "    test2 = model(text)\n",
    "    print(torch.eq(x, test2.logits))"
   ]
  },
  {
   "cell_type": "code",
   "execution_count": null,
   "metadata": {},
   "outputs": [],
   "source": [
    "model.modules()"
   ]
  },
  {
   "cell_type": "code",
   "execution_count": null,
   "metadata": {},
   "outputs": [],
   "source": [
    "test = model(train_df[\"text_encoded\"][0][\"input_ids\"])"
   ]
  },
  {
   "cell_type": "code",
   "execution_count": null,
   "metadata": {},
   "outputs": [],
   "source": [
    "test.logits"
   ]
  },
  {
   "cell_type": "code",
   "execution_count": null,
   "metadata": {},
   "outputs": [],
   "source": [
    "torch.nn.Sequence(model.base_model)\n",
    "list(model.base_model.modules())"
   ]
  },
  {
   "cell_type": "code",
   "execution_count": null,
   "metadata": {},
   "outputs": [],
   "source": [
    "train_df[\"text_encoded\"][0][\"input_ids\"]"
   ]
  },
  {
   "cell_type": "code",
   "execution_count": null,
   "metadata": {},
   "outputs": [],
   "source": [
    "logits_a = torch.rand((16, 2))\n",
    "logits_b = torch.rand((16, 4))\n",
    "logits_c = torch.rand((16, 11))"
   ]
  },
  {
   "cell_type": "code",
   "execution_count": null,
   "metadata": {},
   "outputs": [],
   "source": [
    "import numpy as np\n",
    "from sklearn.utils.class_weight import compute_class_weight"
   ]
  },
  {
   "cell_type": "code",
   "execution_count": null,
   "metadata": {},
   "outputs": [],
   "source": [
    "train_df[\"target_a\"]"
   ]
  },
  {
   "cell_type": "code",
   "execution_count": null,
   "metadata": {},
   "outputs": [],
   "source": [
    "class_weights_a = torch.tensor(\n",
    "    compute_class_weight(\n",
    "        class_weight=\"balanced\", classes=np.unique(train_df[\"target_a\"]), y=train_df[\"target_a\"]\n",
    "    ),\n",
    "    dtype=torch.float,\n",
    ")\n",
    "class_weights_b = torch.tensor(\n",
    "    compute_class_weight(\n",
    "        class_weight=\"balanced\", classes=np.unique(train_df[\"target_b\"]), y=train_df[\"target_b\"]\n",
    "    ),\n",
    "    dtype=torch.float,\n",
    ")\n",
    "class_weights_c = torch.tensor(\n",
    "    compute_class_weight(\n",
    "        class_weight=\"balanced\", classes=np.unique(train_df[\"target_c\"]), y=train_df[\"target_c\"]\n",
    "    ),\n",
    "    dtype=torch.float,\n",
    ")"
   ]
  },
  {
   "cell_type": "code",
   "execution_count": null,
   "metadata": {},
   "outputs": [],
   "source": [
    "print(class_weights_a)\n",
    "print(class_weights_b)\n",
    "print(class_weights_c)"
   ]
  },
  {
   "cell_type": "code",
   "execution_count": null,
   "metadata": {},
   "outputs": [],
   "source": [
    "class_weights_a = torch.tensor(\n",
    "    compute_class_weight(\n",
    "        class_weight=\"balanced\", classes=np.unique(train_df[\"target_a\"]), y=train_df[\"target_a\"]\n",
    "    ),\n",
    "    dtype=torch.float,\n",
    ")\n",
    "tmp_b = train_df[train_df[\"target_b\"] != -1]\n",
    "class_weights_b = torch.tensor(\n",
    "    compute_class_weight(\n",
    "        class_weight=\"balanced\", classes=np.unique(tmp_b[\"target_b\"]), y=tmp_b[\"target_b\"]\n",
    "    ),\n",
    "    dtype=torch.float,\n",
    ")\n",
    "tmp_c = train_df[train_df[\"target_c\"] != -1]\n",
    "class_weights_c = torch.tensor(\n",
    "    compute_class_weight(\n",
    "        class_weight=\"balanced\", classes=np.unique(tmp_c[\"target_c\"]), y=tmp_c[\"target_c\"]\n",
    "    ),\n",
    "    dtype=torch.float,\n",
    ")"
   ]
  },
  {
   "cell_type": "code",
   "execution_count": null,
   "metadata": {},
   "outputs": [],
   "source": [
    "print(class_weights_a)\n",
    "print(class_weights_b)\n",
    "print(class_weights_c)"
   ]
  },
  {
   "cell_type": "code",
   "execution_count": null,
   "metadata": {},
   "outputs": [],
   "source": []
  }
 ],
 "metadata": {
  "kernelspec": {
   "display_name": "Python 3",
   "language": "python",
   "name": "python3"
  },
  "language_info": {
   "codemirror_mode": {
    "name": "ipython",
    "version": 2
   },
   "file_extension": ".py",
   "mimetype": "text/x-python",
   "name": "python",
   "nbconvert_exporter": "python",
   "pygments_lexer": "ipython2",
   "version": "2.7.6"
  }
 },
 "nbformat": 4,
 "nbformat_minor": 0
}

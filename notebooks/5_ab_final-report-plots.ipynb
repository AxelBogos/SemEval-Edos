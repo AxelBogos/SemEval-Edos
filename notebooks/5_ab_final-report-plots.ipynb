{
 "cells": [
  {
   "cell_type": "code",
   "execution_count": null,
   "metadata": {},
   "outputs": [],
   "source": [
    "import textwrap\n",
    "from pathlib import Path\n",
    "\n",
    "import matplotlib.pyplot as plt\n",
    "import pandas as pd\n",
    "import seaborn as sns\n",
    "\n",
    "# Set seaborn context and style\n",
    "sns.set_context(\"paper\")\n",
    "sns.set_style(\"whitegrid\")"
   ]
  },
  {
   "cell_type": "code",
   "execution_count": null,
   "metadata": {},
   "outputs": [],
   "source": [
    "# Load data\n",
    "df = pd.read_csv(Path(\"..\", \"data\", \"raw\", \"edos_labelled_aggregated.csv\"))"
   ]
  },
  {
   "cell_type": "code",
   "execution_count": null,
   "metadata": {},
   "outputs": [],
   "source": [
    "df"
   ]
  },
  {
   "cell_type": "code",
   "execution_count": null,
   "metadata": {},
   "outputs": [],
   "source": [
    "task_a = pd.DataFrame()\n",
    "task_b = pd.DataFrame()\n",
    "task_c = pd.DataFrame()"
   ]
  },
  {
   "cell_type": "code",
   "execution_count": null,
   "metadata": {},
   "outputs": [],
   "source": [
    "task_a[\"Label\"] = pd.DataFrame(df[\"label_sexist\"])\n",
    "task_a[\"Task\"] = \"a\"\n",
    "task_b[\"Label\"] = pd.DataFrame(df[\"label_category\"])\n",
    "task_b[\"Task\"] = \"b\"\n",
    "task_c[\"Label\"] = pd.DataFrame(df[\"label_vector\"])\n",
    "task_c[\"Task\"] = \"c\""
   ]
  },
  {
   "cell_type": "code",
   "execution_count": null,
   "metadata": {},
   "outputs": [],
   "source": [
    "res = pd.concat([task_a, task_b, task_c])"
   ]
  },
  {
   "cell_type": "code",
   "execution_count": null,
   "metadata": {},
   "outputs": [],
   "source": []
  },
  {
   "cell_type": "code",
   "execution_count": null,
   "metadata": {},
   "outputs": [],
   "source": [
    "ax = sns.countplot(data=task_a, y=\"Label\", hue=\"Task\", order=task_a[\"Label\"].value_counts().index)\n",
    "fig = ax.get_figure()\n",
    "fig.tight_layout()\n",
    "fig.savefig(\"task_a.png\", dpi=300)"
   ]
  },
  {
   "cell_type": "code",
   "execution_count": null,
   "metadata": {},
   "outputs": [],
   "source": [
    "def wrap_yticks(x):\n",
    "    return textwrap.fill(x.get_text(), 15)\n",
    "\n",
    "\n",
    "ax = sns.countplot(data=task_b, y=\"Label\", hue=\"Task\", order=task_b[\"Label\"].value_counts().index)\n",
    "ax.set_yticklabels(map(wrap_yticks, ax.get_yticklabels()))\n",
    "fig = ax.get_figure()\n",
    "fig.tight_layout()\n",
    "fig.savefig(\"task_b.png\", dpi=300)"
   ]
  },
  {
   "cell_type": "code",
   "execution_count": null,
   "metadata": {},
   "outputs": [],
   "source": [
    "def wrap_yticks(x):\n",
    "    return textwrap.fill(x.get_text(), 30)\n",
    "\n",
    "\n",
    "ax = sns.countplot(data=task_c, y=\"Label\", hue=\"Task\", order=task_c[\"Label\"].value_counts().index)\n",
    "ax.set_yticklabels(map(wrap_yticks, ax.get_yticklabels()), rotation=5, fontsize=7)\n",
    "fig = ax.get_figure()\n",
    "fig.tight_layout()\n",
    "fig.savefig(\"task_c.png\", dpi=300)"
   ]
  },
  {
   "cell_type": "code",
   "execution_count": null,
   "metadata": {},
   "outputs": [],
   "source": []
  }
 ],
 "metadata": {
  "kernelspec": {
   "display_name": "Python 3",
   "language": "python",
   "name": "python3"
  },
  "language_info": {
   "codemirror_mode": {
    "name": "ipython",
    "version": 2
   },
   "file_extension": ".py",
   "mimetype": "text/x-python",
   "name": "python",
   "nbconvert_exporter": "python",
   "pygments_lexer": "ipython2",
   "version": "2.7.6"
  }
 },
 "nbformat": 4,
 "nbformat_minor": 0
}

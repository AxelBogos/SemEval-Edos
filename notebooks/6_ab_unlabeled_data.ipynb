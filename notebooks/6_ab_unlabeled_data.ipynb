{
 "cells": [
  {
   "cell_type": "code",
   "execution_count": null,
   "metadata": {
    "collapsed": true
   },
   "outputs": [],
   "source": [
    "import os\n",
    "\n",
    "if \"notebooks\" in os.getcwd():\n",
    "    %cd ..\n",
    "from pathlib import Path\n",
    "\n",
    "import matplotlib.pyplot as plt\n",
    "import math\n",
    "import pandas as pd\n",
    "import numpy as np\n",
    "import seaborn as sns\n",
    "from src.utils.defines import INTERIM_DATA_DIR ,AUGMENTED_DATA_DIR, PROCESSED_DATA_DIR, RAW_DATA_DIR\n",
    "import matplotlib.patches as mpatches"
   ]
  },
  {
   "cell_type": "code",
   "execution_count": 389,
   "outputs": [],
   "source": [
    "######################################################################################################\n",
    "# REFORMAT OUTPUT FROM UNLABELED - task a\n",
    "task_a_unlabeled = pd.read_csv(os.path.join(PROCESSED_DATA_DIR, \"probs_task_a_reddit.csv\"))\n",
    "unlabeled_data = pd.read_csv(os.path.join(PROCESSED_DATA_DIR, \"unlabeled_data_500k_reddit.csv\"))"
   ],
   "metadata": {
    "collapsed": false,
    "pycharm": {
     "name": "#%%\n"
    }
   }
  },
  {
   "cell_type": "code",
   "execution_count": 390,
   "outputs": [
    {
     "data": {
      "text/plain": "       target_a                                               text\n0             1  Of course I lose respect for a woman if I fuck...\n1             0  Who cares about how many pictures or w.e? If a...\n2             0                    her twitter name is yikes. lmao\n3             0  I agree. It's like giving your kids a vote whe...\n4             0  Or you could just have one night stands like t...\n...         ...                                                ...\n499995        0  Like how Stalin made the Ukranians “fear for t...\n499996        0  Tbh im not sure of the details behind it. Look...\n499997        0  Right... mine was super heavy and I’d often bl...\n499998        0  An argument against me saying that the meaning...\n499999        0  This racist twerp has been around for years sp...\n\n[500000 rows x 2 columns]",
      "text/html": "<div>\n<style scoped>\n    .dataframe tbody tr th:only-of-type {\n        vertical-align: middle;\n    }\n\n    .dataframe tbody tr th {\n        vertical-align: top;\n    }\n\n    .dataframe thead th {\n        text-align: right;\n    }\n</style>\n<table border=\"1\" class=\"dataframe\">\n  <thead>\n    <tr style=\"text-align: right;\">\n      <th></th>\n      <th>target_a</th>\n      <th>text</th>\n    </tr>\n  </thead>\n  <tbody>\n    <tr>\n      <th>0</th>\n      <td>1</td>\n      <td>Of course I lose respect for a woman if I fuck...</td>\n    </tr>\n    <tr>\n      <th>1</th>\n      <td>0</td>\n      <td>Who cares about how many pictures or w.e? If a...</td>\n    </tr>\n    <tr>\n      <th>2</th>\n      <td>0</td>\n      <td>her twitter name is yikes. lmao</td>\n    </tr>\n    <tr>\n      <th>3</th>\n      <td>0</td>\n      <td>I agree. It's like giving your kids a vote whe...</td>\n    </tr>\n    <tr>\n      <th>4</th>\n      <td>0</td>\n      <td>Or you could just have one night stands like t...</td>\n    </tr>\n    <tr>\n      <th>...</th>\n      <td>...</td>\n      <td>...</td>\n    </tr>\n    <tr>\n      <th>499995</th>\n      <td>0</td>\n      <td>Like how Stalin made the Ukranians “fear for t...</td>\n    </tr>\n    <tr>\n      <th>499996</th>\n      <td>0</td>\n      <td>Tbh im not sure of the details behind it. Look...</td>\n    </tr>\n    <tr>\n      <th>499997</th>\n      <td>0</td>\n      <td>Right... mine was super heavy and I’d often bl...</td>\n    </tr>\n    <tr>\n      <th>499998</th>\n      <td>0</td>\n      <td>An argument against me saying that the meaning...</td>\n    </tr>\n    <tr>\n      <th>499999</th>\n      <td>0</td>\n      <td>This racist twerp has been around for years sp...</td>\n    </tr>\n  </tbody>\n</table>\n<p>500000 rows × 2 columns</p>\n</div>"
     },
     "execution_count": 390,
     "metadata": {},
     "output_type": "execute_result"
    }
   ],
   "source": [
    "# create final new data\n",
    "merged_df = task_a_unlabeled.merge(unlabeled_data, left_index=True, right_index=True, how='inner')\n",
    "\n",
    "merged_df['target_a'] = np.where(merged_df['0_x'] > merged_df['1'], '0', '1')\n",
    "\n",
    "merged_df = merged_df.drop(['0_x', '1'], axis=1)\n",
    "merged_df['text'] = merged_df['0_y']\n",
    "merged_df = merged_df.drop(['0_y'], axis=1)\n",
    "\n",
    "merged_df"
   ],
   "metadata": {
    "collapsed": false,
    "pycharm": {
     "name": "#%%\n"
    }
   }
  },
  {
   "cell_type": "code",
   "execution_count": 391,
   "outputs": [
    {
     "data": {
      "text/plain": "       target_a                                               text\n0             1  Of course I lose respect for a woman if I fuck...\n10            1  If only this foid could actually speak English...\n18            1  These are the kinds of posts that give this su...\n32            1  She looks hot. probably very high maintenance ...\n47            1  Take the condom out of the trash can and rip i...\n...         ...                                                ...\n499941        1  Also saying no to them. And isolated finances ...\n499956        1  No one ever said it was OK. Most men are fairl...\n499967        1  She needs an excuse to post about it. She is s...\n499973        1  Then why not snt the feminazi sexism claim bei...\n499992        1  Nah. I've had women hold open the door for me....\n\n[40701 rows x 2 columns]",
      "text/html": "<div>\n<style scoped>\n    .dataframe tbody tr th:only-of-type {\n        vertical-align: middle;\n    }\n\n    .dataframe tbody tr th {\n        vertical-align: top;\n    }\n\n    .dataframe thead th {\n        text-align: right;\n    }\n</style>\n<table border=\"1\" class=\"dataframe\">\n  <thead>\n    <tr style=\"text-align: right;\">\n      <th></th>\n      <th>target_a</th>\n      <th>text</th>\n    </tr>\n  </thead>\n  <tbody>\n    <tr>\n      <th>0</th>\n      <td>1</td>\n      <td>Of course I lose respect for a woman if I fuck...</td>\n    </tr>\n    <tr>\n      <th>10</th>\n      <td>1</td>\n      <td>If only this foid could actually speak English...</td>\n    </tr>\n    <tr>\n      <th>18</th>\n      <td>1</td>\n      <td>These are the kinds of posts that give this su...</td>\n    </tr>\n    <tr>\n      <th>32</th>\n      <td>1</td>\n      <td>She looks hot. probably very high maintenance ...</td>\n    </tr>\n    <tr>\n      <th>47</th>\n      <td>1</td>\n      <td>Take the condom out of the trash can and rip i...</td>\n    </tr>\n    <tr>\n      <th>...</th>\n      <td>...</td>\n      <td>...</td>\n    </tr>\n    <tr>\n      <th>499941</th>\n      <td>1</td>\n      <td>Also saying no to them. And isolated finances ...</td>\n    </tr>\n    <tr>\n      <th>499956</th>\n      <td>1</td>\n      <td>No one ever said it was OK. Most men are fairl...</td>\n    </tr>\n    <tr>\n      <th>499967</th>\n      <td>1</td>\n      <td>She needs an excuse to post about it. She is s...</td>\n    </tr>\n    <tr>\n      <th>499973</th>\n      <td>1</td>\n      <td>Then why not snt the feminazi sexism claim bei...</td>\n    </tr>\n    <tr>\n      <th>499992</th>\n      <td>1</td>\n      <td>Nah. I've had women hold open the door for me....</td>\n    </tr>\n  </tbody>\n</table>\n<p>40701 rows × 2 columns</p>\n</div>"
     },
     "execution_count": 391,
     "metadata": {},
     "output_type": "execute_result"
    }
   ],
   "source": [
    "merged_df.loc[merged_df['target_a'] == '1']"
   ],
   "metadata": {
    "collapsed": false,
    "pycharm": {
     "name": "#%%\n"
    }
   }
  },
  {
   "cell_type": "code",
   "execution_count": 396,
   "outputs": [],
   "source": [
    "# take only sexist data\n",
    "sexist_new = merged_df.loc[merged_df['target_a'] == '1']\n",
    "# sexist_new.to_csv(f'reddit_task_b.csv', index=False)\n",
    "\n",
    "sexist_new = sexist_new.drop(['target_a'],axis=1)\n",
    "# sexist_new.to_csv(\"unlabeled_task_b_reddit.csv\", index=False)\n",
    "######################################################################################################"
   ],
   "metadata": {
    "collapsed": false,
    "pycharm": {
     "name": "#%%\n"
    }
   }
  },
  {
   "cell_type": "code",
   "execution_count": 397,
   "outputs": [
    {
     "data": {
      "text/plain": "                                                   text  target_b\n0     Women shouldn’t have rights to falsely accuse ...         3\n1     Turn her into a joke. Shame her intelligently....         0\n2     Chad (and his buddy Tyrone) probably tag team ...         0\n3     I snorted my drink through my nose at the ment...         2\n4     Come on.. Even women (FOR FUCK'S SAKE..) are c...         3\n...                                                 ...       ...\n6358  The first allows you to pay women more, menstr...         3\n6359  If a woman has a kid knowing the father wants ...         3\n6360  Yes women are way more privileged legally. Whi...         3\n6361  Also saying no to them. And isolated finances ...         3\n6362  Nah. I've had women hold open the door for me....         2\n\n[6363 rows x 2 columns]",
      "text/html": "<div>\n<style scoped>\n    .dataframe tbody tr th:only-of-type {\n        vertical-align: middle;\n    }\n\n    .dataframe tbody tr th {\n        vertical-align: top;\n    }\n\n    .dataframe thead th {\n        text-align: right;\n    }\n</style>\n<table border=\"1\" class=\"dataframe\">\n  <thead>\n    <tr style=\"text-align: right;\">\n      <th></th>\n      <th>text</th>\n      <th>target_b</th>\n    </tr>\n  </thead>\n  <tbody>\n    <tr>\n      <th>0</th>\n      <td>Women shouldn’t have rights to falsely accuse ...</td>\n      <td>3</td>\n    </tr>\n    <tr>\n      <th>1</th>\n      <td>Turn her into a joke. Shame her intelligently....</td>\n      <td>0</td>\n    </tr>\n    <tr>\n      <th>2</th>\n      <td>Chad (and his buddy Tyrone) probably tag team ...</td>\n      <td>0</td>\n    </tr>\n    <tr>\n      <th>3</th>\n      <td>I snorted my drink through my nose at the ment...</td>\n      <td>2</td>\n    </tr>\n    <tr>\n      <th>4</th>\n      <td>Come on.. Even women (FOR FUCK'S SAKE..) are c...</td>\n      <td>3</td>\n    </tr>\n    <tr>\n      <th>...</th>\n      <td>...</td>\n      <td>...</td>\n    </tr>\n    <tr>\n      <th>6358</th>\n      <td>The first allows you to pay women more, menstr...</td>\n      <td>3</td>\n    </tr>\n    <tr>\n      <th>6359</th>\n      <td>If a woman has a kid knowing the father wants ...</td>\n      <td>3</td>\n    </tr>\n    <tr>\n      <th>6360</th>\n      <td>Yes women are way more privileged legally. Whi...</td>\n      <td>3</td>\n    </tr>\n    <tr>\n      <th>6361</th>\n      <td>Also saying no to them. And isolated finances ...</td>\n      <td>3</td>\n    </tr>\n    <tr>\n      <th>6362</th>\n      <td>Nah. I've had women hold open the door for me....</td>\n      <td>2</td>\n    </tr>\n  </tbody>\n</table>\n<p>6363 rows × 2 columns</p>\n</div>"
     },
     "execution_count": 397,
     "metadata": {},
     "output_type": "execute_result"
    }
   ],
   "source": [
    "# REFORMAT OUTPUT FROM UNLABELED - task b\n",
    "task_b_labeled = pd.read_csv(os.path.join(PROCESSED_DATA_DIR, \"probs_task_b_reddit.csv\"))\n",
    "# unlabeled_task_b_GAB = pd.read_csv(os.path.join(PROCESSED_DATA_DIR, \"unlabeled_task_b_GAB.csv\"))\n",
    "unlabeled_task_b_reddit = pd.read_csv(os.path.join(PROCESSED_DATA_DIR, \"unlabeled_task_b_reddit.csv\"))\n",
    "# Set a confidence threshold for pseudo-labeling\n",
    "confidence_threshold = 0.90\n",
    "test = np.array(task_b_labeled)\n",
    "\n",
    "# Get the most confident predictions and their indices\n",
    "most_confident_indices = np.where(test.max(axis=1) > confidence_threshold)[0]\n",
    "most_confident_preds = pd.DataFrame(test.argmax(axis=1)[most_confident_indices])\n",
    "most_confident_preds.columns = ['target_b']\n",
    "\n",
    "text_task_b = unlabeled_task_b_reddit.iloc[most_confident_indices].reset_index(drop=True)\n",
    "\n",
    "final_task_b = pd.concat([text_task_b, most_confident_preds],axis=1)\n",
    "final_task_b"
   ],
   "metadata": {
    "collapsed": false,
    "pycharm": {
     "name": "#%%\n"
    }
   }
  },
  {
   "cell_type": "code",
   "execution_count": 398,
   "outputs": [
    {
     "name": "stdout",
     "output_type": "stream",
     "text": [
      "0: 830\n",
      "1: 1594\n",
      "2: 1793\n",
      "3: 2146\n"
     ]
    }
   ],
   "source": [
    "unique_values, counts = np.unique(most_confident_preds, return_counts=True)\n",
    "\n",
    "for value, count in zip(unique_values, counts):\n",
    "    print(f\"{value}: {count}\")"
   ],
   "metadata": {
    "collapsed": false,
    "pycharm": {
     "name": "#%%\n"
    }
   }
  },
  {
   "cell_type": "code",
   "execution_count": 400,
   "outputs": [],
   "source": [
    "dummy_values = np.random.rand(len(final_task_b))\n",
    "df = final_task_b.copy()\n",
    "df = df.assign(target_a=pd.Series(dummy_values))\n",
    "df = df.assign(target_c=pd.Series(dummy_values))\n",
    "df = df.assign(rewire_id=pd.Series(dummy_values))\n",
    "df = df.reindex(columns=['rewire_id', 'text', 'target_a', 'target_b', 'target_c'])\n",
    "df.to_csv(\"task_b_reddit_aug_90conf.csv\", index=False)"
   ],
   "metadata": {
    "collapsed": false,
    "pycharm": {
     "name": "#%%\n"
    }
   }
  }
 ],
 "metadata": {
  "kernelspec": {
   "display_name": "Python 3",
   "language": "python",
   "name": "python3"
  },
  "language_info": {
   "codemirror_mode": {
    "name": "ipython",
    "version": 2
   },
   "file_extension": ".py",
   "mimetype": "text/x-python",
   "name": "python",
   "nbconvert_exporter": "python",
   "pygments_lexer": "ipython2",
   "version": "2.7.6"
  }
 },
 "nbformat": 4,
 "nbformat_minor": 0
}
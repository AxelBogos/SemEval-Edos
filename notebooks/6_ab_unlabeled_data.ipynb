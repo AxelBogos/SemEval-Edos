{
 "cells": [
  {
   "cell_type": "code",
   "execution_count": 2,
   "metadata": {
    "collapsed": true
   },
   "outputs": [
    {
     "name": "stdout",
     "output_type": "stream",
     "text": [
      "D:\\SemEval-Edos\n"
     ]
    }
   ],
   "source": [
    "import os\n",
    "\n",
    "if \"notebooks\" in os.getcwd():\n",
    "    %cd ..\n",
    "from pathlib import Path\n",
    "\n",
    "import matplotlib.pyplot as plt\n",
    "import math\n",
    "import pandas as pd\n",
    "import numpy as np\n",
    "import seaborn as sns\n",
    "from src.utils.defines import INTERIM_DATA_DIR ,AUGMENTED_DATA_DIR, PROCESSED_DATA_DIR, RAW_DATA_DIR\n",
    "import matplotlib.patches as mpatches"
   ]
  },
  {
   "cell_type": "code",
   "execution_count": 156,
   "outputs": [],
   "source": [
    "######################################################################################################\n",
    "# REFORMAT OUTPUT FROM UNLABELED - task a\n",
    "# task_a_unlabeled = pd.read_csv(os.path.join(PROCESSED_DATA_DIR, \"probs_task_a_GAB_FULL.csv\"))\n",
    "# unlabeled_data = pd.read_csv(os.path.join(PROCESSED_DATA_DIR, \"unlabeled_data_GAB_FULL.csv\"))\n",
    "\n",
    "task_a_unlabeled = pd.read_csv(os.path.join(PROCESSED_DATA_DIR, \"probs_task_a_reddit.csv\"))\n",
    "unlabeled_data = pd.read_csv(os.path.join(PROCESSED_DATA_DIR, \"unlabeled_data_500k_reddit.csv\"))"
   ],
   "metadata": {
    "collapsed": false,
    "pycharm": {
     "name": "#%%\n"
    }
   }
  },
  {
   "cell_type": "code",
   "execution_count": 157,
   "outputs": [
    {
     "data": {
      "text/plain": "                                                     text  target_a\n0       Who cares about how many pictures or w.e? If a...         0\n1                         her twitter name is yikes. lmao         0\n2       I agree. It's like giving your kids a vote whe...         0\n3       Or you could just have one night stands like t...         0\n4       Plow through. This is the normal learning curv...         0\n...                                                   ...       ...\n415883  Like how Stalin made the Ukranians “fear for t...         0\n415884  Tbh im not sure of the details behind it. Look...         0\n415885  Right... mine was super heavy and I’d often bl...         0\n415886  An argument against me saying that the meaning...         0\n415887  This racist twerp has been around for years sp...         0\n\n[415888 rows x 2 columns]",
      "text/html": "<div>\n<style scoped>\n    .dataframe tbody tr th:only-of-type {\n        vertical-align: middle;\n    }\n\n    .dataframe tbody tr th {\n        vertical-align: top;\n    }\n\n    .dataframe thead th {\n        text-align: right;\n    }\n</style>\n<table border=\"1\" class=\"dataframe\">\n  <thead>\n    <tr style=\"text-align: right;\">\n      <th></th>\n      <th>text</th>\n      <th>target_a</th>\n    </tr>\n  </thead>\n  <tbody>\n    <tr>\n      <th>0</th>\n      <td>Who cares about how many pictures or w.e? If a...</td>\n      <td>0</td>\n    </tr>\n    <tr>\n      <th>1</th>\n      <td>her twitter name is yikes. lmao</td>\n      <td>0</td>\n    </tr>\n    <tr>\n      <th>2</th>\n      <td>I agree. It's like giving your kids a vote whe...</td>\n      <td>0</td>\n    </tr>\n    <tr>\n      <th>3</th>\n      <td>Or you could just have one night stands like t...</td>\n      <td>0</td>\n    </tr>\n    <tr>\n      <th>4</th>\n      <td>Plow through. This is the normal learning curv...</td>\n      <td>0</td>\n    </tr>\n    <tr>\n      <th>...</th>\n      <td>...</td>\n      <td>...</td>\n    </tr>\n    <tr>\n      <th>415883</th>\n      <td>Like how Stalin made the Ukranians “fear for t...</td>\n      <td>0</td>\n    </tr>\n    <tr>\n      <th>415884</th>\n      <td>Tbh im not sure of the details behind it. Look...</td>\n      <td>0</td>\n    </tr>\n    <tr>\n      <th>415885</th>\n      <td>Right... mine was super heavy and I’d often bl...</td>\n      <td>0</td>\n    </tr>\n    <tr>\n      <th>415886</th>\n      <td>An argument against me saying that the meaning...</td>\n      <td>0</td>\n    </tr>\n    <tr>\n      <th>415887</th>\n      <td>This racist twerp has been around for years sp...</td>\n      <td>0</td>\n    </tr>\n  </tbody>\n</table>\n<p>415888 rows × 2 columns</p>\n</div>"
     },
     "execution_count": 157,
     "metadata": {},
     "output_type": "execute_result"
    }
   ],
   "source": [
    "# create final new data\n",
    "merged_df = task_a_unlabeled.merge(unlabeled_data, left_index=True, right_index=True, how='inner')\n",
    "\n",
    "# Set a confidence threshold for pseudo-labeling\n",
    "confidence_threshold = 0.99\n",
    "test = np.array(task_a_unlabeled)\n",
    "\n",
    "# Get the most confident predictions and their indices\n",
    "most_confident_indices = np.where(test.max(axis=1) > confidence_threshold)[0]\n",
    "most_confident_preds = pd.DataFrame(test.argmax(axis=1)[most_confident_indices])\n",
    "\n",
    "most_confident_preds.columns = ['target_a']\n",
    "\n",
    "text_task_a = unlabeled_data.iloc[most_confident_indices].reset_index(drop=True)\n",
    "text_task_a.columns = ['text']\n",
    "\n",
    "final_task_a = pd.concat([text_task_a, most_confident_preds],axis=1)\n",
    "final_task_a"
   ],
   "metadata": {
    "collapsed": false,
    "pycharm": {
     "name": "#%%\n"
    }
   }
  },
  {
   "cell_type": "code",
   "execution_count": 158,
   "outputs": [],
   "source": [
    "dummy_values = np.random.rand(len(final_task_a))\n",
    "df = final_task_a.copy()\n",
    "df = df.assign(target_b=pd.Series(dummy_values))\n",
    "df = df.assign(target_c=pd.Series(dummy_values))\n",
    "df = df.assign(rewire_id=pd.Series(dummy_values))\n",
    "df = df.reindex(columns=['rewire_id', 'text', 'target_a', 'target_b', 'target_c'])\n",
    "df.to_csv(\"task_a_reddit_aug_99conf_FULL.csv\", index=False)"
   ],
   "metadata": {
    "collapsed": false,
    "pycharm": {
     "name": "#%%\n"
    }
   }
  },
  {
   "cell_type": "code",
   "execution_count": 106,
   "outputs": [],
   "source": [
    "# take only sexist data\n",
    "sexist_new = merged_df.loc[merged_df['target_a'] == '1']\n",
    "# sexist_new.to_csv(f'task_b_reddit_missing.csv', index=False)\n",
    "\n",
    "sexist_new = sexist_new.drop(['target_a'],axis=1)\n",
    "# sexist_new.to_csv(\"unlabeled_task_b_reddit_missing.csv\", index=False)\n",
    "######################################################################################################"
   ],
   "metadata": {
    "collapsed": false,
    "pycharm": {
     "name": "#%%\n"
    }
   }
  },
  {
   "cell_type": "code",
   "execution_count": 59,
   "outputs": [],
   "source": [
    "df1 = pd.read_csv(os.path.join(PROCESSED_DATA_DIR, \"unlabeled_task_b_reddit.csv\"))\n",
    "df2 = pd.read_csv(os.path.join(PROCESSED_DATA_DIR, \"unlabeled_task_b_reddit_missing.csv\"))"
   ],
   "metadata": {
    "collapsed": false,
    "pycharm": {
     "name": "#%%\n"
    }
   }
  },
  {
   "cell_type": "code",
   "execution_count": 107,
   "outputs": [
    {
     "data": {
      "text/plain": "                                                    text\n0      Of course I lose respect for a woman if I fuck...\n1      If only this foid could actually speak English...\n3      She looks hot. probably very high maintenance ...\n4      Take the condom out of the trash can and rip i...\n5      If it makes you feel any better, women don't e...\n...                                                  ...\n40694  Yes women are way more privileged legally. Whi...\n40695  Society CANNOT stand when men behave like wome...\n40697  No one ever said it was OK. Most men are fairl...\n40698  She needs an excuse to post about it. She is s...\n40700  Nah. I've had women hold open the door for me....\n\n[34732 rows x 1 columns]",
      "text/html": "<div>\n<style scoped>\n    .dataframe tbody tr th:only-of-type {\n        vertical-align: middle;\n    }\n\n    .dataframe tbody tr th {\n        vertical-align: top;\n    }\n\n    .dataframe thead th {\n        text-align: right;\n    }\n</style>\n<table border=\"1\" class=\"dataframe\">\n  <thead>\n    <tr style=\"text-align: right;\">\n      <th></th>\n      <th>text</th>\n    </tr>\n  </thead>\n  <tbody>\n    <tr>\n      <th>0</th>\n      <td>Of course I lose respect for a woman if I fuck...</td>\n    </tr>\n    <tr>\n      <th>1</th>\n      <td>If only this foid could actually speak English...</td>\n    </tr>\n    <tr>\n      <th>3</th>\n      <td>She looks hot. probably very high maintenance ...</td>\n    </tr>\n    <tr>\n      <th>4</th>\n      <td>Take the condom out of the trash can and rip i...</td>\n    </tr>\n    <tr>\n      <th>5</th>\n      <td>If it makes you feel any better, women don't e...</td>\n    </tr>\n    <tr>\n      <th>...</th>\n      <td>...</td>\n    </tr>\n    <tr>\n      <th>40694</th>\n      <td>Yes women are way more privileged legally. Whi...</td>\n    </tr>\n    <tr>\n      <th>40695</th>\n      <td>Society CANNOT stand when men behave like wome...</td>\n    </tr>\n    <tr>\n      <th>40697</th>\n      <td>No one ever said it was OK. Most men are fairl...</td>\n    </tr>\n    <tr>\n      <th>40698</th>\n      <td>She needs an excuse to post about it. She is s...</td>\n    </tr>\n    <tr>\n      <th>40700</th>\n      <td>Nah. I've had women hold open the door for me....</td>\n    </tr>\n  </tbody>\n</table>\n<p>34732 rows × 1 columns</p>\n</div>"
     },
     "execution_count": 107,
     "metadata": {},
     "output_type": "execute_result"
    }
   ],
   "source": [
    "df1[df1['text'].isin(df2['text'])]"
   ],
   "metadata": {
    "collapsed": false,
    "pycharm": {
     "name": "#%%\n"
    }
   }
  },
  {
   "cell_type": "code",
   "execution_count": 25,
   "outputs": [],
   "source": [
    "reddit_all = pd.read_csv(os.path.join(RAW_DATA_DIR, \"reddit_1M_unlabelled.csv\"))\n",
    "reddit_500k = pd.read_csv(os.path.join(PROCESSED_DATA_DIR, \"unlabeled_data_500k_reddit.csv\"))"
   ],
   "metadata": {
    "collapsed": false,
    "pycharm": {
     "name": "#%%\n"
    }
   }
  },
  {
   "cell_type": "code",
   "execution_count": 99,
   "outputs": [],
   "source": [
    "missing_rows = reddit_all[~reddit_all['text'].isin(reddit_500k['0'])]"
   ],
   "metadata": {
    "collapsed": false,
    "pycharm": {
     "name": "#%%\n"
    }
   }
  },
  {
   "cell_type": "code",
   "execution_count": 104,
   "outputs": [
    {
     "data": {
      "text/plain": "Empty DataFrame\nColumns: [0]\nIndex: []",
      "text/html": "<div>\n<style scoped>\n    .dataframe tbody tr th:only-of-type {\n        vertical-align: middle;\n    }\n\n    .dataframe tbody tr th {\n        vertical-align: top;\n    }\n\n    .dataframe thead th {\n        text-align: right;\n    }\n</style>\n<table border=\"1\" class=\"dataframe\">\n  <thead>\n    <tr style=\"text-align: right;\">\n      <th></th>\n      <th>0</th>\n    </tr>\n  </thead>\n  <tbody>\n  </tbody>\n</table>\n</div>"
     },
     "execution_count": 104,
     "metadata": {},
     "output_type": "execute_result"
    }
   ],
   "source": [
    "reddit_500k[reddit_500k['0'].str.contains(missing_rows['text'][999995])]"
   ],
   "metadata": {
    "collapsed": false,
    "pycharm": {
     "name": "#%%\n"
    }
   }
  },
  {
   "cell_type": "code",
   "execution_count": 36,
   "outputs": [],
   "source": [
    "missing_rows.to_csv('missing_rows_reddit_500k.csv', header=None, index=None)"
   ],
   "metadata": {
    "collapsed": false,
    "pycharm": {
     "name": "#%%\n"
    }
   }
  },
  {
   "cell_type": "code",
   "execution_count": 110,
   "outputs": [
    {
     "data": {
      "text/plain": "                                                   text  target_b\n0     Women shouldn’t have rights to falsely accuse ...         3\n1     Turn her into a joke. Shame her intelligently....         0\n2     Chad (and his buddy Tyrone) probably tag team ...         0\n3     Come on.. Even women (FOR FUCK'S SAKE..) are c...         3\n4     Actually feminists in the 70s penned a bill th...         3\n...                                                 ...       ...\n2790  I’ve been reading a lot about trades from my f...         3\n2791  The first allows you to pay women more, menstr...         3\n2792  If a woman has a kid knowing the father wants ...         3\n2793  Yes women are way more privileged legally. Whi...         3\n2794  Also saying no to them. And isolated finances ...         3\n\n[2795 rows x 2 columns]",
      "text/html": "<div>\n<style scoped>\n    .dataframe tbody tr th:only-of-type {\n        vertical-align: middle;\n    }\n\n    .dataframe tbody tr th {\n        vertical-align: top;\n    }\n\n    .dataframe thead th {\n        text-align: right;\n    }\n</style>\n<table border=\"1\" class=\"dataframe\">\n  <thead>\n    <tr style=\"text-align: right;\">\n      <th></th>\n      <th>text</th>\n      <th>target_b</th>\n    </tr>\n  </thead>\n  <tbody>\n    <tr>\n      <th>0</th>\n      <td>Women shouldn’t have rights to falsely accuse ...</td>\n      <td>3</td>\n    </tr>\n    <tr>\n      <th>1</th>\n      <td>Turn her into a joke. Shame her intelligently....</td>\n      <td>0</td>\n    </tr>\n    <tr>\n      <th>2</th>\n      <td>Chad (and his buddy Tyrone) probably tag team ...</td>\n      <td>0</td>\n    </tr>\n    <tr>\n      <th>3</th>\n      <td>Come on.. Even women (FOR FUCK'S SAKE..) are c...</td>\n      <td>3</td>\n    </tr>\n    <tr>\n      <th>4</th>\n      <td>Actually feminists in the 70s penned a bill th...</td>\n      <td>3</td>\n    </tr>\n    <tr>\n      <th>...</th>\n      <td>...</td>\n      <td>...</td>\n    </tr>\n    <tr>\n      <th>2790</th>\n      <td>I’ve been reading a lot about trades from my f...</td>\n      <td>3</td>\n    </tr>\n    <tr>\n      <th>2791</th>\n      <td>The first allows you to pay women more, menstr...</td>\n      <td>3</td>\n    </tr>\n    <tr>\n      <th>2792</th>\n      <td>If a woman has a kid knowing the father wants ...</td>\n      <td>3</td>\n    </tr>\n    <tr>\n      <th>2793</th>\n      <td>Yes women are way more privileged legally. Whi...</td>\n      <td>3</td>\n    </tr>\n    <tr>\n      <th>2794</th>\n      <td>Also saying no to them. And isolated finances ...</td>\n      <td>3</td>\n    </tr>\n  </tbody>\n</table>\n<p>2795 rows × 2 columns</p>\n</div>"
     },
     "execution_count": 110,
     "metadata": {},
     "output_type": "execute_result"
    }
   ],
   "source": [
    "# REFORMAT OUTPUT FROM UNLABELED - task b\n",
    "# task_b_labeled = pd.read_csv(os.path.join(PROCESSED_DATA_DIR, \"probs_task_b_GAB_FULL.csv\"))\n",
    "task_b_labeled = pd.read_csv(os.path.join(PROCESSED_DATA_DIR, \"probs_task_b_reddit.csv\"))\n",
    "# unlabeled_task_b_GAB = pd.read_csv(os.path.join(PROCESSED_DATA_DIR, \"unlabeled_data_GAB_FULL.csv\"))\n",
    "unlabeled_task_b_reddit = pd.read_csv(os.path.join(PROCESSED_DATA_DIR, \"unlabeled_task_b_reddit.csv\"))\n",
    "# Set a confidence threshold for pseudo-labeling\n",
    "confidence_threshold = 0.95\n",
    "test = np.array(task_b_labeled)\n",
    "\n",
    "# Get the most confident predictions and their indices\n",
    "most_confident_indices = np.where(test.max(axis=1) > confidence_threshold)[0]\n",
    "most_confident_preds = pd.DataFrame(test.argmax(axis=1)[most_confident_indices])\n",
    "most_confident_preds.columns = ['target_b']\n",
    "\n",
    "text_task_b = unlabeled_task_b_reddit.iloc[most_confident_indices].reset_index(drop=True)\n",
    "\n",
    "final_task_b = pd.concat([text_task_b, most_confident_preds],axis=1)\n",
    "final_task_b"
   ],
   "metadata": {
    "collapsed": false,
    "pycharm": {
     "name": "#%%\n"
    }
   }
  },
  {
   "cell_type": "code",
   "execution_count": 111,
   "outputs": [
    {
     "name": "stdout",
     "output_type": "stream",
     "text": [
      "0: 668\n",
      "1: 279\n",
      "2: 239\n",
      "3: 1609\n"
     ]
    }
   ],
   "source": [
    "unique_values, counts = np.unique(most_confident_preds, return_counts=True)\n",
    "\n",
    "for value, count in zip(unique_values, counts):\n",
    "    print(f\"{value}: {count}\")"
   ],
   "metadata": {
    "collapsed": false,
    "pycharm": {
     "name": "#%%\n"
    }
   }
  },
  {
   "cell_type": "code",
   "execution_count": 46,
   "outputs": [],
   "source": [
    "dummy_values = np.random.rand(len(final_task_b))\n",
    "df = final_task_b.copy()\n",
    "df = df.assign(target_a=pd.Series(dummy_values))\n",
    "df = df.assign(target_c=pd.Series(dummy_values))\n",
    "df = df.assign(rewire_id=pd.Series(dummy_values))\n",
    "df = df.reindex(columns=['rewire_id', '0', 'target_a', 'target_b', 'target_c'])\n",
    "df.to_csv(\"task_b_GAB_aug_95conf_FULL.csv\", index=False)"
   ],
   "metadata": {
    "collapsed": false,
    "pycharm": {
     "name": "#%%\n"
    }
   }
  },
  {
   "cell_type": "code",
   "execution_count": 159,
   "outputs": [],
   "source": [
    "######################################################################################################\n",
    "# REFORMAT OUTPUT FROM UNLABELED - task c\n",
    "task_c_labeled = pd.read_csv(os.path.join(PROCESSED_DATA_DIR, \"probs_task_c_FULL_distilbert.csv\"))\n",
    "unlabeled_task_b_gab_FULL = pd.read_csv(os.path.join(PROCESSED_DATA_DIR, \"unlabeled_task_b_gab_FULL.csv\"))\n",
    "unlabeled_task_b_reddit = pd.read_csv(os.path.join(PROCESSED_DATA_DIR, \"unlabeled_task_b_reddit.csv\"))"
   ],
   "metadata": {
    "collapsed": false,
    "pycharm": {
     "name": "#%%\n"
    }
   }
  },
  {
   "cell_type": "code",
   "execution_count": 167,
   "outputs": [],
   "source": [
    "confidence_threshold = 0.70\n",
    "test = np.array(task_c_labeled)\n",
    "\n",
    "# Get the most confident predictions and their indices\n",
    "most_confident_indices = np.where(test.max(axis=1) > confidence_threshold)[0]\n",
    "most_confident_preds = pd.DataFrame(test.argmax(axis=1)[most_confident_indices])\n",
    "most_confident_preds.columns = ['target_c']"
   ],
   "metadata": {
    "collapsed": false,
    "pycharm": {
     "name": "#%%\n"
    }
   }
  },
  {
   "cell_type": "code",
   "execution_count": 168,
   "outputs": [
    {
     "name": "stdout",
     "output_type": "stream",
     "text": [
      "1: 223\n",
      "2: 1178\n",
      "3: 1320\n",
      "5: 9742\n",
      "6: 137\n",
      "10: 42\n"
     ]
    }
   ],
   "source": [
    "unique_values, counts = np.unique(most_confident_preds, return_counts=True)\n",
    "\n",
    "for value, count in zip(unique_values, counts):\n",
    "    print(f\"{value}: {count}\")"
   ],
   "metadata": {
    "collapsed": false,
    "pycharm": {
     "name": "#%%\n"
    }
   }
  },
  {
   "cell_type": "code",
   "execution_count": 164,
   "outputs": [
    {
     "data": {
      "text/plain": "     target_c\n0           5\n1           5\n2           5\n3           5\n4           5\n..        ...\n859         5\n860         5\n861         5\n862         5\n863         5\n\n[864 rows x 1 columns]",
      "text/html": "<div>\n<style scoped>\n    .dataframe tbody tr th:only-of-type {\n        vertical-align: middle;\n    }\n\n    .dataframe tbody tr th {\n        vertical-align: top;\n    }\n\n    .dataframe thead th {\n        text-align: right;\n    }\n</style>\n<table border=\"1\" class=\"dataframe\">\n  <thead>\n    <tr style=\"text-align: right;\">\n      <th></th>\n      <th>target_c</th>\n    </tr>\n  </thead>\n  <tbody>\n    <tr>\n      <th>0</th>\n      <td>5</td>\n    </tr>\n    <tr>\n      <th>1</th>\n      <td>5</td>\n    </tr>\n    <tr>\n      <th>2</th>\n      <td>5</td>\n    </tr>\n    <tr>\n      <th>3</th>\n      <td>5</td>\n    </tr>\n    <tr>\n      <th>4</th>\n      <td>5</td>\n    </tr>\n    <tr>\n      <th>...</th>\n      <td>...</td>\n    </tr>\n    <tr>\n      <th>859</th>\n      <td>5</td>\n    </tr>\n    <tr>\n      <th>860</th>\n      <td>5</td>\n    </tr>\n    <tr>\n      <th>861</th>\n      <td>5</td>\n    </tr>\n    <tr>\n      <th>862</th>\n      <td>5</td>\n    </tr>\n    <tr>\n      <th>863</th>\n      <td>5</td>\n    </tr>\n  </tbody>\n</table>\n<p>864 rows × 1 columns</p>\n</div>"
     },
     "execution_count": 164,
     "metadata": {},
     "output_type": "execute_result"
    }
   ],
   "source": [
    "most_confident_preds"
   ],
   "metadata": {
    "collapsed": false,
    "pycharm": {
     "name": "#%%\n"
    }
   }
  }
 ],
 "metadata": {
  "kernelspec": {
   "display_name": "Python 3",
   "language": "python",
   "name": "python3"
  },
  "language_info": {
   "codemirror_mode": {
    "name": "ipython",
    "version": 2
   },
   "file_extension": ".py",
   "mimetype": "text/x-python",
   "name": "python",
   "nbconvert_exporter": "python",
   "pygments_lexer": "ipython2",
   "version": "2.7.6"
  }
 },
 "nbformat": 4,
 "nbformat_minor": 0
}
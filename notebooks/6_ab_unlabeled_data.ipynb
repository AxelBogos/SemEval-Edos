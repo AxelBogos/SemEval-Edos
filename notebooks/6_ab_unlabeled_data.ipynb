{
 "cells": [
  {
   "cell_type": "code",
   "execution_count": 68,
   "metadata": {
    "collapsed": true
   },
   "outputs": [],
   "source": [
    "import os\n",
    "\n",
    "if \"notebooks\" in os.getcwd():\n",
    "    %cd ..\n",
    "from pathlib import Path\n",
    "\n",
    "import matplotlib.pyplot as plt\n",
    "import math\n",
    "import pandas as pd\n",
    "import numpy as np\n",
    "import seaborn as sns\n",
    "from src.utils.defines import INTERIM_DATA_DIR, PROCESSED_DATA_DIR, RAW_DATA_DIR\n",
    "import matplotlib.patches as mpatches"
   ]
  },
  {
   "cell_type": "code",
   "execution_count": 2,
   "outputs": [],
   "source": [
    "unlabeled_reddit = pd.read_csv(os.path.join(RAW_DATA_DIR, \"reddit_1M_unlabelled.csv\"))\n",
    "unlabeled_GAB = pd.read_csv(os.path.join(RAW_DATA_DIR, \"gab_1M_unlabelled.csv\"))"
   ],
   "metadata": {
    "collapsed": false,
    "pycharm": {
     "name": "#%%\n"
    }
   }
  },
  {
   "cell_type": "code",
   "execution_count": 6,
   "outputs": [],
   "source": [
    "unlabeled_reddit['key'] = unlabeled_reddit.index.astype(str) + 'reddit'\n",
    "unlabeled_GAB['key'] = unlabeled_GAB.index.astype(str) + 'GAB'"
   ],
   "metadata": {
    "collapsed": false,
    "pycharm": {
     "name": "#%%\n"
    }
   }
  },
  {
   "cell_type": "code",
   "execution_count": 11,
   "outputs": [],
   "source": [
    "# Calculate the number of pieces to split the dataframe into\n",
    "n = 200000\n",
    "num_pieces = math.ceil(len(unlabeled_reddit) / n)\n",
    "\n",
    "# Split the dataframe into multiple smaller dataframes\n",
    "dfs_unlabeled_reddit = [unlabeled_reddit.iloc[i*n:(i+1)*n] for i in range(num_pieces)]\n",
    "dfs_unlabeled_GAB = [unlabeled_GAB.iloc[i*n:(i+1)*n] for i in range(num_pieces)]"
   ],
   "metadata": {
    "collapsed": false,
    "pycharm": {
     "name": "#%%\n"
    }
   }
  },
  {
   "cell_type": "code",
   "execution_count": 13,
   "outputs": [],
   "source": [
    "# Save each of the smaller dataframes to separate files\n",
    "for i, df in enumerate(dfs_unlabeled_reddit):\n",
    "    df.to_csv(f'df_{i}reddit.csv', index=False)\n",
    "\n",
    "for i, df in enumerate(dfs_unlabeled_GAB):\n",
    "    df.to_csv(f'df_{i}GAB.csv', index=False)"
   ],
   "metadata": {
    "collapsed": false,
    "pycharm": {
     "name": "#%%\n"
    }
   }
  },
  {
   "cell_type": "code",
   "execution_count": 135,
   "outputs": [],
   "source": [
    "######################################################################################################\n",
    "# REFORMAT OUTPUT FROM UNLABELED - task a\n",
    "task_a_unlabeled = pd.read_csv(os.path.join(PROCESSED_DATA_DIR, \"probs_task_a_10k.csv\"))\n",
    "unlabeled_data_10k = pd.read_csv(os.path.join(PROCESSED_DATA_DIR, \"unlabeled_data_10k.csv\"))"
   ],
   "metadata": {
    "collapsed": false,
    "pycharm": {
     "name": "#%%\n"
    }
   }
  },
  {
   "cell_type": "code",
   "execution_count": 138,
   "outputs": [
    {
     "data": {
      "text/plain": "     target_a                                               text\n0           0  Don't forget that I AM supporting you at the h...\n1           0  My guess is the restaurant is at least 30 year...\n2           0          John Nolte: Hillary Clinton is Dumb [URL]\n3           0             Jackson Pollock with his Artwork, 1949\n4           0  This is shocking!! What #CA voters approved an...\n...       ...                                                ...\n9995        0                        #Music #KatelynTarver [URL]\n9996        0  \"We want people working at Amazon who want to ...\n9997        0  Another gold seller confirms Bitcoin owners tr...\n9998        0  [USER] Assange is not a genius, but by the sta...\n9999        0  Cartel Controls the Importation of Used Cars i...\n\n[10000 rows x 2 columns]",
      "text/html": "<div>\n<style scoped>\n    .dataframe tbody tr th:only-of-type {\n        vertical-align: middle;\n    }\n\n    .dataframe tbody tr th {\n        vertical-align: top;\n    }\n\n    .dataframe thead th {\n        text-align: right;\n    }\n</style>\n<table border=\"1\" class=\"dataframe\">\n  <thead>\n    <tr style=\"text-align: right;\">\n      <th></th>\n      <th>target_a</th>\n      <th>text</th>\n    </tr>\n  </thead>\n  <tbody>\n    <tr>\n      <th>0</th>\n      <td>0</td>\n      <td>Don't forget that I AM supporting you at the h...</td>\n    </tr>\n    <tr>\n      <th>1</th>\n      <td>0</td>\n      <td>My guess is the restaurant is at least 30 year...</td>\n    </tr>\n    <tr>\n      <th>2</th>\n      <td>0</td>\n      <td>John Nolte: Hillary Clinton is Dumb [URL]</td>\n    </tr>\n    <tr>\n      <th>3</th>\n      <td>0</td>\n      <td>Jackson Pollock with his Artwork, 1949</td>\n    </tr>\n    <tr>\n      <th>4</th>\n      <td>0</td>\n      <td>This is shocking!! What #CA voters approved an...</td>\n    </tr>\n    <tr>\n      <th>...</th>\n      <td>...</td>\n      <td>...</td>\n    </tr>\n    <tr>\n      <th>9995</th>\n      <td>0</td>\n      <td>#Music #KatelynTarver [URL]</td>\n    </tr>\n    <tr>\n      <th>9996</th>\n      <td>0</td>\n      <td>\"We want people working at Amazon who want to ...</td>\n    </tr>\n    <tr>\n      <th>9997</th>\n      <td>0</td>\n      <td>Another gold seller confirms Bitcoin owners tr...</td>\n    </tr>\n    <tr>\n      <th>9998</th>\n      <td>0</td>\n      <td>[USER] Assange is not a genius, but by the sta...</td>\n    </tr>\n    <tr>\n      <th>9999</th>\n      <td>0</td>\n      <td>Cartel Controls the Importation of Used Cars i...</td>\n    </tr>\n  </tbody>\n</table>\n<p>10000 rows × 2 columns</p>\n</div>"
     },
     "execution_count": 138,
     "metadata": {},
     "output_type": "execute_result"
    }
   ],
   "source": [
    "# create final new data\n",
    "merged_df = task_a_unlabeled.merge(unlabeled_data_10k, left_index=True, right_index=True, how='inner')\n",
    "\n",
    "merged_df['target_a'] = np.where(merged_df['0_x'] > merged_df['1'], '0', '1')\n",
    "\n",
    "merged_df = merged_df.drop(['0_x', '1'], axis=1)\n",
    "merged_df['text'] = merged_df['0_y']\n",
    "merged_df = merged_df.drop(['0_y'], axis=1)\n",
    "\n",
    "merged_df"
   ],
   "metadata": {
    "collapsed": false,
    "pycharm": {
     "name": "#%%\n"
    }
   }
  },
  {
   "cell_type": "code",
   "execution_count": 151,
   "outputs": [],
   "source": [
    "# take only sexist data\n",
    "sexist_new = merged_df.loc[merged_df['target_a'] == '1']\n",
    "sexist_new.to_csv(f'GAB_task_b.csv', index=False)\n",
    "\n",
    "sexist_new = sexist_new.drop(['target_a'],axis=1)\n",
    "sexist_new.to_csv(\"unlabeled_task_b_GAB.csv\", index=False)\n",
    "######################################################################################################"
   ],
   "metadata": {
    "collapsed": false,
    "pycharm": {
     "name": "#%%\n"
    }
   }
  },
  {
   "cell_type": "code",
   "execution_count": null,
   "outputs": [],
   "source": [
    "merged_df.head()"
   ],
   "metadata": {
    "collapsed": false,
    "pycharm": {
     "name": "#%%\n"
    }
   }
  },
  {
   "cell_type": "code",
   "execution_count": null,
   "outputs": [],
   "source": [
    "merged_df.head()"
   ],
   "metadata": {
    "collapsed": false,
    "pycharm": {
     "name": "#%%\n"
    }
   }
  },
  {
   "cell_type": "code",
   "execution_count": null,
   "outputs": [],
   "source": [
    "pd.DataFrame(np.where(merged_df.target_a == '1')).transpose()"
   ],
   "metadata": {
    "collapsed": false,
    "pycharm": {
     "name": "#%%\n"
    }
   }
  },
  {
   "cell_type": "code",
   "execution_count": null,
   "outputs": [],
   "source": [
    "unlabeled_data_10k['0'][267]\n"
   ],
   "metadata": {
    "collapsed": false,
    "pycharm": {
     "name": "#%%\n"
    }
   }
  }
 ],
 "metadata": {
  "kernelspec": {
   "name": "pycharm-37fbb5da",
   "language": "python",
   "display_name": "PyCharm (IFT6289-EDOS)"
  },
  "language_info": {
   "codemirror_mode": {
    "name": "ipython",
    "version": 2
   },
   "file_extension": ".py",
   "mimetype": "text/x-python",
   "name": "python",
   "nbconvert_exporter": "python",
   "pygments_lexer": "ipython2",
   "version": "2.7.6"
  }
 },
 "nbformat": 4,
 "nbformat_minor": 0
}
{
 "cells": [
  {
   "cell_type": "code",
   "execution_count": 327,
   "metadata": {
    "collapsed": true
   },
   "outputs": [],
   "source": [
    "import os\n",
    "\n",
    "if \"notebooks\" in os.getcwd():\n",
    "    %cd ..\n",
    "from pathlib import Path\n",
    "\n",
    "import matplotlib.pyplot as plt\n",
    "import math\n",
    "import pandas as pd\n",
    "import numpy as np\n",
    "import seaborn as sns\n",
    "from src.utils.defines import INTERIM_DATA_DIR ,AUGMENTED_DATA_DIR, PROCESSED_DATA_DIR, RAW_DATA_DIR\n",
    "import matplotlib.patches as mpatches"
   ]
  },
  {
   "cell_type": "code",
   "execution_count": 2,
   "outputs": [],
   "source": [
    "unlabeled_reddit = pd.read_csv(os.path.join(RAW_DATA_DIR, \"reddit_1M_unlabelled.csv\"))\n",
    "unlabeled_GAB = pd.read_csv(os.path.join(RAW_DATA_DIR, \"gab_1M_unlabelled.csv\"))"
   ],
   "metadata": {
    "collapsed": false,
    "pycharm": {
     "name": "#%%\n"
    }
   }
  },
  {
   "cell_type": "code",
   "execution_count": 6,
   "outputs": [],
   "source": [
    "unlabeled_reddit['key'] = unlabeled_reddit.index.astype(str) + 'reddit'\n",
    "unlabeled_GAB['key'] = unlabeled_GAB.index.astype(str) + 'GAB'"
   ],
   "metadata": {
    "collapsed": false,
    "pycharm": {
     "name": "#%%\n"
    }
   }
  },
  {
   "cell_type": "code",
   "execution_count": 11,
   "outputs": [],
   "source": [
    "# Calculate the number of pieces to split the dataframe into\n",
    "n = 200000\n",
    "num_pieces = math.ceil(len(unlabeled_reddit) / n)\n",
    "\n",
    "# Split the dataframe into multiple smaller dataframes\n",
    "dfs_unlabeled_reddit = [unlabeled_reddit.iloc[i*n:(i+1)*n] for i in range(num_pieces)]\n",
    "dfs_unlabeled_GAB = [unlabeled_GAB.iloc[i*n:(i+1)*n] for i in range(num_pieces)]"
   ],
   "metadata": {
    "collapsed": false,
    "pycharm": {
     "name": "#%%\n"
    }
   }
  },
  {
   "cell_type": "code",
   "execution_count": 13,
   "outputs": [],
   "source": [
    "# Save each of the smaller dataframes to separate files\n",
    "for i, df in enumerate(dfs_unlabeled_reddit):\n",
    "    df.to_csv(f'df_{i}reddit.csv', index=False)\n",
    "\n",
    "for i, df in enumerate(dfs_unlabeled_GAB):\n",
    "    df.to_csv(f'df_{i}GAB.csv', index=False)"
   ],
   "metadata": {
    "collapsed": false,
    "pycharm": {
     "name": "#%%\n"
    }
   }
  },
  {
   "cell_type": "code",
   "execution_count": 152,
   "outputs": [],
   "source": [
    "######################################################################################################\n",
    "# REFORMAT OUTPUT FROM UNLABELED - task a\n",
    "task_a_unlabeled = pd.read_csv(os.path.join(PROCESSED_DATA_DIR, \"probs_task_a_350k.csv\"))\n",
    "unlabeled_data_10k = pd.read_csv(os.path.join(PROCESSED_DATA_DIR, \"unlabeled_data_350k.csv\"))"
   ],
   "metadata": {
    "collapsed": false,
    "pycharm": {
     "name": "#%%\n"
    }
   }
  },
  {
   "cell_type": "code",
   "execution_count": 153,
   "outputs": [
    {
     "data": {
      "text/plain": "       target_a                                               text\n0             0  What Ripple does is extremely difficult to dec...\n1             0  You probably won't answer, but roughly how old...\n2             0          [USER] That really is what it seems like.\n3             0  This time on Pimptard-Wifestitute: Back in 199...\n4             0  Sometimes loading a page is a dramatic, Herucl...\n...         ...                                                ...\n349995        0                             It's OK to be mongrel.\n349996        0  [USER] Ohhh so the Red Cross actually document...\n349997        0       John Lennon was a hypocritical sack of shit.\n349998        0  Remember this? German girl asks where are all ...\n349999        0  It’s to bad there’s no numbers on what was use...\n\n[350000 rows x 2 columns]",
      "text/html": "<div>\n<style scoped>\n    .dataframe tbody tr th:only-of-type {\n        vertical-align: middle;\n    }\n\n    .dataframe tbody tr th {\n        vertical-align: top;\n    }\n\n    .dataframe thead th {\n        text-align: right;\n    }\n</style>\n<table border=\"1\" class=\"dataframe\">\n  <thead>\n    <tr style=\"text-align: right;\">\n      <th></th>\n      <th>target_a</th>\n      <th>text</th>\n    </tr>\n  </thead>\n  <tbody>\n    <tr>\n      <th>0</th>\n      <td>0</td>\n      <td>What Ripple does is extremely difficult to dec...</td>\n    </tr>\n    <tr>\n      <th>1</th>\n      <td>0</td>\n      <td>You probably won't answer, but roughly how old...</td>\n    </tr>\n    <tr>\n      <th>2</th>\n      <td>0</td>\n      <td>[USER] That really is what it seems like.</td>\n    </tr>\n    <tr>\n      <th>3</th>\n      <td>0</td>\n      <td>This time on Pimptard-Wifestitute: Back in 199...</td>\n    </tr>\n    <tr>\n      <th>4</th>\n      <td>0</td>\n      <td>Sometimes loading a page is a dramatic, Herucl...</td>\n    </tr>\n    <tr>\n      <th>...</th>\n      <td>...</td>\n      <td>...</td>\n    </tr>\n    <tr>\n      <th>349995</th>\n      <td>0</td>\n      <td>It's OK to be mongrel.</td>\n    </tr>\n    <tr>\n      <th>349996</th>\n      <td>0</td>\n      <td>[USER] Ohhh so the Red Cross actually document...</td>\n    </tr>\n    <tr>\n      <th>349997</th>\n      <td>0</td>\n      <td>John Lennon was a hypocritical sack of shit.</td>\n    </tr>\n    <tr>\n      <th>349998</th>\n      <td>0</td>\n      <td>Remember this? German girl asks where are all ...</td>\n    </tr>\n    <tr>\n      <th>349999</th>\n      <td>0</td>\n      <td>It’s to bad there’s no numbers on what was use...</td>\n    </tr>\n  </tbody>\n</table>\n<p>350000 rows × 2 columns</p>\n</div>"
     },
     "execution_count": 153,
     "metadata": {},
     "output_type": "execute_result"
    }
   ],
   "source": [
    "# create final new data\n",
    "merged_df = task_a_unlabeled.merge(unlabeled_data_10k, left_index=True, right_index=True, how='inner')\n",
    "\n",
    "merged_df['target_a'] = np.where(merged_df['0_x'] > merged_df['1'], '0', '1')\n",
    "\n",
    "merged_df = merged_df.drop(['0_x', '1'], axis=1)\n",
    "merged_df['text'] = merged_df['0_y']\n",
    "merged_df = merged_df.drop(['0_y'], axis=1)\n",
    "\n",
    "merged_df"
   ],
   "metadata": {
    "collapsed": false,
    "pycharm": {
     "name": "#%%\n"
    }
   }
  },
  {
   "cell_type": "code",
   "execution_count": 158,
   "outputs": [],
   "source": [
    "# take only sexist data\n",
    "sexist_new = merged_df.loc[merged_df['target_a'] == '1']\n",
    "sexist_new.to_csv(f'GAB_task_b.csv', index=False)\n",
    "\n",
    "sexist_new = sexist_new.drop(['target_a'],axis=1)\n",
    "sexist_new.to_csv(\"unlabeled_task_b_GAB.csv\", index=False)\n",
    "######################################################################################################"
   ],
   "metadata": {
    "collapsed": false,
    "pycharm": {
     "name": "#%%\n"
    }
   }
  },
  {
   "cell_type": "code",
   "execution_count": null,
   "outputs": [],
   "source": [
    "merged_df.head()"
   ],
   "metadata": {
    "collapsed": false,
    "pycharm": {
     "name": "#%%\n"
    }
   }
  },
  {
   "cell_type": "code",
   "execution_count": null,
   "outputs": [],
   "source": [
    "merged_df.head()"
   ],
   "metadata": {
    "collapsed": false,
    "pycharm": {
     "name": "#%%\n"
    }
   }
  },
  {
   "cell_type": "code",
   "execution_count": 154,
   "outputs": [
    {
     "data": {
      "text/plain": "           0\n0         23\n1        106\n2        199\n3        230\n4        358\n...      ...\n6536  349487\n6537  349645\n6538  349672\n6539  349806\n6540  349900\n\n[6541 rows x 1 columns]",
      "text/html": "<div>\n<style scoped>\n    .dataframe tbody tr th:only-of-type {\n        vertical-align: middle;\n    }\n\n    .dataframe tbody tr th {\n        vertical-align: top;\n    }\n\n    .dataframe thead th {\n        text-align: right;\n    }\n</style>\n<table border=\"1\" class=\"dataframe\">\n  <thead>\n    <tr style=\"text-align: right;\">\n      <th></th>\n      <th>0</th>\n    </tr>\n  </thead>\n  <tbody>\n    <tr>\n      <th>0</th>\n      <td>23</td>\n    </tr>\n    <tr>\n      <th>1</th>\n      <td>106</td>\n    </tr>\n    <tr>\n      <th>2</th>\n      <td>199</td>\n    </tr>\n    <tr>\n      <th>3</th>\n      <td>230</td>\n    </tr>\n    <tr>\n      <th>4</th>\n      <td>358</td>\n    </tr>\n    <tr>\n      <th>...</th>\n      <td>...</td>\n    </tr>\n    <tr>\n      <th>6536</th>\n      <td>349487</td>\n    </tr>\n    <tr>\n      <th>6537</th>\n      <td>349645</td>\n    </tr>\n    <tr>\n      <th>6538</th>\n      <td>349672</td>\n    </tr>\n    <tr>\n      <th>6539</th>\n      <td>349806</td>\n    </tr>\n    <tr>\n      <th>6540</th>\n      <td>349900</td>\n    </tr>\n  </tbody>\n</table>\n<p>6541 rows × 1 columns</p>\n</div>"
     },
     "execution_count": 154,
     "metadata": {},
     "output_type": "execute_result"
    }
   ],
   "source": [
    "pd.DataFrame(np.where(merged_df.target_a == '1')).transpose()"
   ],
   "metadata": {
    "collapsed": false,
    "pycharm": {
     "name": "#%%\n"
    }
   }
  },
  {
   "cell_type": "code",
   "execution_count": 157,
   "outputs": [
    {
     "data": {
      "text/plain": "\"Feminine NOT Feminist, I won't surrender my power over men without a fight. My philosophy on why not to dress like a slut.\""
     },
     "execution_count": 157,
     "metadata": {},
     "output_type": "execute_result"
    }
   ],
   "source": [
    "unlabeled_data_10k['0'][349672]"
   ],
   "metadata": {
    "collapsed": false,
    "pycharm": {
     "name": "#%%\n"
    }
   }
  },
  {
   "cell_type": "code",
   "execution_count": 208,
   "outputs": [],
   "source": [
    "######################################################################################################\n",
    "# REFORMAT OUTPUT FROM UNLABELED - task b\n",
    "task_b_labeled = pd.read_csv(os.path.join(PROCESSED_DATA_DIR, \"probs_task_b.csv\"))\n",
    "unlabeled_task_b_GAB = pd.read_csv(os.path.join(PROCESSED_DATA_DIR, \"unlabeled_task_b_GAB.csv\"))"
   ],
   "metadata": {
    "collapsed": false,
    "pycharm": {
     "name": "#%%\n"
    }
   }
  },
  {
   "cell_type": "code",
   "execution_count": 273,
   "outputs": [],
   "source": [
    "# Set a confidence threshold for pseudo-labeling\n",
    "confidence_threshold = 0.90\n",
    "test = np.array(task_b_labeled)\n",
    "\n",
    "# Get the most confident predictions and their indices\n",
    "most_confident_indices = np.where(test.max(axis=1) > confidence_threshold)[0]\n",
    "most_confident_preds = pd.DataFrame(test.argmax(axis=1)[most_confident_indices])\n",
    "most_confident_preds.columns = ['target_b']"
   ],
   "metadata": {
    "collapsed": false,
    "pycharm": {
     "name": "#%%\n"
    }
   }
  },
  {
   "cell_type": "code",
   "execution_count": 274,
   "outputs": [],
   "source": [
    "text_task_b = unlabeled_task_b_GAB.iloc[most_confident_indices].reset_index(drop=True)"
   ],
   "metadata": {
    "collapsed": false,
    "pycharm": {
     "name": "#%%\n"
    }
   }
  },
  {
   "cell_type": "code",
   "execution_count": 275,
   "outputs": [
    {
     "data": {
      "text/plain": "                                                   text  target_b\n0     I probably wouldn't brag about that because us...         3\n1     Now I feel like we should just rib that whore....         0\n2     Not everyone can be brave and talk shit online...         2\n3     And if you don't want to hear racist crap, SEL...         2\n4     Junior high level 'thinking you're prescient' ...         2\n...                                                 ...       ...\n1678  Read this and realize women are kind of stupid...         1\n1679  You know, maybe being an unattractive virgin i...         1\n1680  You're right I don't understand nor care to. H...         2\n1681  Moochelle-ms don't plan ahead. When 85y.o. mar...         2\n1682  That, and I don't even know how we'd wiggle mo...         2\n\n[1683 rows x 2 columns]",
      "text/html": "<div>\n<style scoped>\n    .dataframe tbody tr th:only-of-type {\n        vertical-align: middle;\n    }\n\n    .dataframe tbody tr th {\n        vertical-align: top;\n    }\n\n    .dataframe thead th {\n        text-align: right;\n    }\n</style>\n<table border=\"1\" class=\"dataframe\">\n  <thead>\n    <tr style=\"text-align: right;\">\n      <th></th>\n      <th>text</th>\n      <th>target_b</th>\n    </tr>\n  </thead>\n  <tbody>\n    <tr>\n      <th>0</th>\n      <td>I probably wouldn't brag about that because us...</td>\n      <td>3</td>\n    </tr>\n    <tr>\n      <th>1</th>\n      <td>Now I feel like we should just rib that whore....</td>\n      <td>0</td>\n    </tr>\n    <tr>\n      <th>2</th>\n      <td>Not everyone can be brave and talk shit online...</td>\n      <td>2</td>\n    </tr>\n    <tr>\n      <th>3</th>\n      <td>And if you don't want to hear racist crap, SEL...</td>\n      <td>2</td>\n    </tr>\n    <tr>\n      <th>4</th>\n      <td>Junior high level 'thinking you're prescient' ...</td>\n      <td>2</td>\n    </tr>\n    <tr>\n      <th>...</th>\n      <td>...</td>\n      <td>...</td>\n    </tr>\n    <tr>\n      <th>1678</th>\n      <td>Read this and realize women are kind of stupid...</td>\n      <td>1</td>\n    </tr>\n    <tr>\n      <th>1679</th>\n      <td>You know, maybe being an unattractive virgin i...</td>\n      <td>1</td>\n    </tr>\n    <tr>\n      <th>1680</th>\n      <td>You're right I don't understand nor care to. H...</td>\n      <td>2</td>\n    </tr>\n    <tr>\n      <th>1681</th>\n      <td>Moochelle-ms don't plan ahead. When 85y.o. mar...</td>\n      <td>2</td>\n    </tr>\n    <tr>\n      <th>1682</th>\n      <td>That, and I don't even know how we'd wiggle mo...</td>\n      <td>2</td>\n    </tr>\n  </tbody>\n</table>\n<p>1683 rows × 2 columns</p>\n</div>"
     },
     "execution_count": 275,
     "metadata": {},
     "output_type": "execute_result"
    }
   ],
   "source": [
    "final_task_b = pd.concat([text_task_b, most_confident_preds],axis=1)\n",
    "final_task_b"
   ],
   "metadata": {
    "collapsed": false,
    "pycharm": {
     "name": "#%%\n"
    }
   }
  },
  {
   "cell_type": "code",
   "execution_count": 302,
   "outputs": [],
   "source": [
    "dummy_values = np.random.rand(len(final_task_b))\n",
    "df = final_task_b.copy()\n",
    "df = df.assign(target_a=pd.Series(dummy_values))\n",
    "df = df.assign(target_c=pd.Series(dummy_values))\n",
    "df = df.assign(rewire_id=pd.Series(dummy_values))\n",
    "df = df.reindex(columns=['rewire_id', 'text', 'target_a', 'target_b', 'target_c'])\n",
    "df.to_csv(\"task_b_GAB_aug.csv\", index=False)"
   ],
   "metadata": {
    "collapsed": false,
    "pycharm": {
     "name": "#%%\n"
    }
   }
  },
  {
   "cell_type": "code",
   "execution_count": 310,
   "outputs": [
    {
     "data": {
      "text/plain": "      rewire_id                                               text  target_a  \\\n0      0.530177  I probably wouldn't brag about that because us...  0.530177   \n1      0.849003  Now I feel like we should just rib that whore....  0.849003   \n2      0.339105  Not everyone can be brave and talk shit online...  0.339105   \n3      0.560390  And if you don't want to hear racist crap, SEL...  0.560390   \n4      0.692593  Junior high level 'thinking you're prescient' ...  0.692593   \n...         ...                                                ...       ...   \n1678   0.254854  Read this and realize women are kind of stupid...  0.254854   \n1679   0.709994  You know, maybe being an unattractive virgin i...  0.709994   \n1680   0.775813  You're right I don't understand nor care to. H...  0.775813   \n1681   0.628161  Moochelle-ms don't plan ahead. When 85y.o. mar...  0.628161   \n1682   0.727157  That, and I don't even know how we'd wiggle mo...  0.727157   \n\n      target_b  target_c  \n0            3  0.530177  \n1            0  0.849003  \n2            2  0.339105  \n3            2  0.560390  \n4            2  0.692593  \n...        ...       ...  \n1678         1  0.254854  \n1679         1  0.709994  \n1680         2  0.775813  \n1681         2  0.628161  \n1682         2  0.727157  \n\n[1683 rows x 5 columns]",
      "text/html": "<div>\n<style scoped>\n    .dataframe tbody tr th:only-of-type {\n        vertical-align: middle;\n    }\n\n    .dataframe tbody tr th {\n        vertical-align: top;\n    }\n\n    .dataframe thead th {\n        text-align: right;\n    }\n</style>\n<table border=\"1\" class=\"dataframe\">\n  <thead>\n    <tr style=\"text-align: right;\">\n      <th></th>\n      <th>rewire_id</th>\n      <th>text</th>\n      <th>target_a</th>\n      <th>target_b</th>\n      <th>target_c</th>\n    </tr>\n  </thead>\n  <tbody>\n    <tr>\n      <th>0</th>\n      <td>0.530177</td>\n      <td>I probably wouldn't brag about that because us...</td>\n      <td>0.530177</td>\n      <td>3</td>\n      <td>0.530177</td>\n    </tr>\n    <tr>\n      <th>1</th>\n      <td>0.849003</td>\n      <td>Now I feel like we should just rib that whore....</td>\n      <td>0.849003</td>\n      <td>0</td>\n      <td>0.849003</td>\n    </tr>\n    <tr>\n      <th>2</th>\n      <td>0.339105</td>\n      <td>Not everyone can be brave and talk shit online...</td>\n      <td>0.339105</td>\n      <td>2</td>\n      <td>0.339105</td>\n    </tr>\n    <tr>\n      <th>3</th>\n      <td>0.560390</td>\n      <td>And if you don't want to hear racist crap, SEL...</td>\n      <td>0.560390</td>\n      <td>2</td>\n      <td>0.560390</td>\n    </tr>\n    <tr>\n      <th>4</th>\n      <td>0.692593</td>\n      <td>Junior high level 'thinking you're prescient' ...</td>\n      <td>0.692593</td>\n      <td>2</td>\n      <td>0.692593</td>\n    </tr>\n    <tr>\n      <th>...</th>\n      <td>...</td>\n      <td>...</td>\n      <td>...</td>\n      <td>...</td>\n      <td>...</td>\n    </tr>\n    <tr>\n      <th>1678</th>\n      <td>0.254854</td>\n      <td>Read this and realize women are kind of stupid...</td>\n      <td>0.254854</td>\n      <td>1</td>\n      <td>0.254854</td>\n    </tr>\n    <tr>\n      <th>1679</th>\n      <td>0.709994</td>\n      <td>You know, maybe being an unattractive virgin i...</td>\n      <td>0.709994</td>\n      <td>1</td>\n      <td>0.709994</td>\n    </tr>\n    <tr>\n      <th>1680</th>\n      <td>0.775813</td>\n      <td>You're right I don't understand nor care to. H...</td>\n      <td>0.775813</td>\n      <td>2</td>\n      <td>0.775813</td>\n    </tr>\n    <tr>\n      <th>1681</th>\n      <td>0.628161</td>\n      <td>Moochelle-ms don't plan ahead. When 85y.o. mar...</td>\n      <td>0.628161</td>\n      <td>2</td>\n      <td>0.628161</td>\n    </tr>\n    <tr>\n      <th>1682</th>\n      <td>0.727157</td>\n      <td>That, and I don't even know how we'd wiggle mo...</td>\n      <td>0.727157</td>\n      <td>2</td>\n      <td>0.727157</td>\n    </tr>\n  </tbody>\n</table>\n<p>1683 rows × 5 columns</p>\n</div>"
     },
     "execution_count": 310,
     "metadata": {},
     "output_type": "execute_result"
    }
   ],
   "source": [
    "df"
   ],
   "metadata": {
    "collapsed": false,
    "pycharm": {
     "name": "#%%\n"
    }
   }
  },
  {
   "cell_type": "code",
   "execution_count": 311,
   "outputs": [
    {
     "data": {
      "text/plain": "                      rewire_id  \\\n0                      0.530177   \n1                      0.849003   \n2                      0.339105   \n3                       0.56039   \n4                      0.692593   \n...                         ...   \n13995  sexism2022_english-12034   \n13996   sexism2022_english-5228   \n13997  sexism2022_english-10140   \n13998   sexism2022_english-9726   \n13999  sexism2022_english-13365   \n\n                                                    text  target_a  target_b  \\\n0      I probably wouldn't brag about that because us...  0.530177         3   \n1      Now I feel like we should just rib that whore....  0.849003         0   \n2      Not everyone can be brave and talk shit online...  0.339105         2   \n3      And if you don't want to hear racist crap, SEL...  0.560390         2   \n4      Junior high level 'thinking you're prescient' ...  0.692593         2   \n...                                                  ...       ...       ...   \n13995  I blew a line at a record like that. Girl on t...  0.000000        -1   \n13996      girls really get fucked around every weekend?  0.000000        -1   \n13997  The hatred for moslems are Reasonable and Just...  0.000000        -1   \n13998            Now this is a woman actually gets it. 👆  0.000000        -1   \n13999  “American Idol” finalist [USER] said nothing i...  0.000000        -1   \n\n       target_c  \n0      0.530177  \n1      0.849003  \n2      0.339105  \n3      0.560390  \n4      0.692593  \n...         ...  \n13995 -1.000000  \n13996 -1.000000  \n13997 -1.000000  \n13998 -1.000000  \n13999 -1.000000  \n\n[15683 rows x 5 columns]",
      "text/html": "<div>\n<style scoped>\n    .dataframe tbody tr th:only-of-type {\n        vertical-align: middle;\n    }\n\n    .dataframe tbody tr th {\n        vertical-align: top;\n    }\n\n    .dataframe thead th {\n        text-align: right;\n    }\n</style>\n<table border=\"1\" class=\"dataframe\">\n  <thead>\n    <tr style=\"text-align: right;\">\n      <th></th>\n      <th>rewire_id</th>\n      <th>text</th>\n      <th>target_a</th>\n      <th>target_b</th>\n      <th>target_c</th>\n    </tr>\n  </thead>\n  <tbody>\n    <tr>\n      <th>0</th>\n      <td>0.530177</td>\n      <td>I probably wouldn't brag about that because us...</td>\n      <td>0.530177</td>\n      <td>3</td>\n      <td>0.530177</td>\n    </tr>\n    <tr>\n      <th>1</th>\n      <td>0.849003</td>\n      <td>Now I feel like we should just rib that whore....</td>\n      <td>0.849003</td>\n      <td>0</td>\n      <td>0.849003</td>\n    </tr>\n    <tr>\n      <th>2</th>\n      <td>0.339105</td>\n      <td>Not everyone can be brave and talk shit online...</td>\n      <td>0.339105</td>\n      <td>2</td>\n      <td>0.339105</td>\n    </tr>\n    <tr>\n      <th>3</th>\n      <td>0.56039</td>\n      <td>And if you don't want to hear racist crap, SEL...</td>\n      <td>0.560390</td>\n      <td>2</td>\n      <td>0.560390</td>\n    </tr>\n    <tr>\n      <th>4</th>\n      <td>0.692593</td>\n      <td>Junior high level 'thinking you're prescient' ...</td>\n      <td>0.692593</td>\n      <td>2</td>\n      <td>0.692593</td>\n    </tr>\n    <tr>\n      <th>...</th>\n      <td>...</td>\n      <td>...</td>\n      <td>...</td>\n      <td>...</td>\n      <td>...</td>\n    </tr>\n    <tr>\n      <th>13995</th>\n      <td>sexism2022_english-12034</td>\n      <td>I blew a line at a record like that. Girl on t...</td>\n      <td>0.000000</td>\n      <td>-1</td>\n      <td>-1.000000</td>\n    </tr>\n    <tr>\n      <th>13996</th>\n      <td>sexism2022_english-5228</td>\n      <td>girls really get fucked around every weekend?</td>\n      <td>0.000000</td>\n      <td>-1</td>\n      <td>-1.000000</td>\n    </tr>\n    <tr>\n      <th>13997</th>\n      <td>sexism2022_english-10140</td>\n      <td>The hatred for moslems are Reasonable and Just...</td>\n      <td>0.000000</td>\n      <td>-1</td>\n      <td>-1.000000</td>\n    </tr>\n    <tr>\n      <th>13998</th>\n      <td>sexism2022_english-9726</td>\n      <td>Now this is a woman actually gets it. 👆</td>\n      <td>0.000000</td>\n      <td>-1</td>\n      <td>-1.000000</td>\n    </tr>\n    <tr>\n      <th>13999</th>\n      <td>sexism2022_english-13365</td>\n      <td>“American Idol” finalist [USER] said nothing i...</td>\n      <td>0.000000</td>\n      <td>-1</td>\n      <td>-1.000000</td>\n    </tr>\n  </tbody>\n</table>\n<p>15683 rows × 5 columns</p>\n</div>"
     },
     "execution_count": 311,
     "metadata": {},
     "output_type": "execute_result"
    }
   ],
   "source": [
    "train_aug_synonym1 = pd.read_csv(Path(AUGMENTED_DATA_DIR,\"train_augmented_synonym_replacement_emb_augmax_1.csv\"))"
   ],
   "metadata": {
    "collapsed": false,
    "pycharm": {
     "name": "#%%\n"
    }
   }
  },
  {
   "cell_type": "code",
   "execution_count": 335,
   "outputs": [],
   "source": [
    "from src.data.text_processing import TextPreprocessor\n",
    "text_preprocessor = TextPreprocessor(preprocessing_mode='none')\n",
    "\n",
    "df = pd.read_csv(Path(INTERIM_DATA_DIR, \"train.csv\"))\n",
    "test = pd.concat([df,train_aug_synonym1])\n",
    "\n",
    "test['text'] = text_preprocessor.transform_series(test['text'])\n",
    "test = test.to_numpy()"
   ],
   "metadata": {
    "collapsed": false,
    "pycharm": {
     "name": "#%%\n"
    }
   }
  },
  {
   "cell_type": "code",
   "execution_count": 339,
   "outputs": [
    {
     "data": {
      "text/plain": "array([['sexism2022_english-16993', \"Then, she's a keeper. 😉\", 0, -1, -1],\n       ['sexism2022_english-13149',\n        'This is like the Metallica video where the poor mutilated bastard was saying \"Please kill me\" over and over again, only with emojis instead of Morse code.',\n        0, -1, -1],\n       ['sexism2022_english-13021', 'woman?', 0, -1, -1],\n       ...,\n       ['sexism2022_english-10140',\n        \"The hatred for moslems are Reasonable and Justified. They openly call for our subjugation, the rapes of our women and children, our massacres, and our death. I'm not going to coexist with them.\",\n        0, -1, -1],\n       ['sexism2022_english-9726',\n        'Now this is a woman actually gets it. 👆', 0, -1, -1],\n       ['sexism2022_english-13365',\n        '“American Idol” finalist [USER] said nothing is going to stop her from performing at The [USER] on #IndependenceDay, calls the chance a once-in-a-lifetime opportunity. [URL] [URL]',\n        0, -1, -1]], dtype=object)"
     },
     "execution_count": 339,
     "metadata": {},
     "output_type": "execute_result"
    }
   ],
   "source": [
    "test"
   ],
   "metadata": {
    "collapsed": false,
    "pycharm": {
     "name": "#%%\n"
    }
   }
  },
  {
   "cell_type": "code",
   "execution_count": 338,
   "outputs": [
    {
     "data": {
      "text/plain": "array([-1, -1, -1, ..., -1, -1, -1], dtype=object)"
     },
     "execution_count": 338,
     "metadata": {},
     "output_type": "execute_result"
    }
   ],
   "source": [
    "test[:, 3]"
   ],
   "metadata": {
    "collapsed": false,
    "pycharm": {
     "name": "#%%\n"
    }
   }
  },
  {
   "cell_type": "code",
   "execution_count": 306,
   "outputs": [],
   "source": [
    "test = pd.read_csv(Path(AUGMENTED_DATA_DIR, \"task_b_GAB_aug.csv\"))"
   ],
   "metadata": {
    "collapsed": false,
    "pycharm": {
     "name": "#%%\n"
    }
   }
  },
  {
   "cell_type": "code",
   "execution_count": 307,
   "outputs": [
    {
     "data": {
      "text/plain": "      rewire_id                                               text  target_a  \\\n0      0.530177  I probably wouldn't brag about that because us...  0.530177   \n1      0.849003  Now I feel like we should just rib that whore....  0.849003   \n2      0.339105  Not everyone can be brave and talk shit online...  0.339105   \n3      0.560390  And if you don't want to hear racist crap, SEL...  0.560390   \n4      0.692593  Junior high level 'thinking you're prescient' ...  0.692593   \n...         ...                                                ...       ...   \n1678   0.254854  Read this and realize women are kind of stupid...  0.254854   \n1679   0.709994  You know, maybe being an unattractive virgin i...  0.709994   \n1680   0.775813  You're right I don't understand nor care to. H...  0.775813   \n1681   0.628161  Moochelle-ms don't plan ahead. When 85y.o. mar...  0.628161   \n1682   0.727157  That, and I don't even know how we'd wiggle mo...  0.727157   \n\n      target_b  target_c  \n0            3  0.530177  \n1            0  0.849003  \n2            2  0.339105  \n3            2  0.560390  \n4            2  0.692593  \n...        ...       ...  \n1678         1  0.254854  \n1679         1  0.709994  \n1680         2  0.775813  \n1681         2  0.628161  \n1682         2  0.727157  \n\n[1683 rows x 5 columns]",
      "text/html": "<div>\n<style scoped>\n    .dataframe tbody tr th:only-of-type {\n        vertical-align: middle;\n    }\n\n    .dataframe tbody tr th {\n        vertical-align: top;\n    }\n\n    .dataframe thead th {\n        text-align: right;\n    }\n</style>\n<table border=\"1\" class=\"dataframe\">\n  <thead>\n    <tr style=\"text-align: right;\">\n      <th></th>\n      <th>rewire_id</th>\n      <th>text</th>\n      <th>target_a</th>\n      <th>target_b</th>\n      <th>target_c</th>\n    </tr>\n  </thead>\n  <tbody>\n    <tr>\n      <th>0</th>\n      <td>0.530177</td>\n      <td>I probably wouldn't brag about that because us...</td>\n      <td>0.530177</td>\n      <td>3</td>\n      <td>0.530177</td>\n    </tr>\n    <tr>\n      <th>1</th>\n      <td>0.849003</td>\n      <td>Now I feel like we should just rib that whore....</td>\n      <td>0.849003</td>\n      <td>0</td>\n      <td>0.849003</td>\n    </tr>\n    <tr>\n      <th>2</th>\n      <td>0.339105</td>\n      <td>Not everyone can be brave and talk shit online...</td>\n      <td>0.339105</td>\n      <td>2</td>\n      <td>0.339105</td>\n    </tr>\n    <tr>\n      <th>3</th>\n      <td>0.560390</td>\n      <td>And if you don't want to hear racist crap, SEL...</td>\n      <td>0.560390</td>\n      <td>2</td>\n      <td>0.560390</td>\n    </tr>\n    <tr>\n      <th>4</th>\n      <td>0.692593</td>\n      <td>Junior high level 'thinking you're prescient' ...</td>\n      <td>0.692593</td>\n      <td>2</td>\n      <td>0.692593</td>\n    </tr>\n    <tr>\n      <th>...</th>\n      <td>...</td>\n      <td>...</td>\n      <td>...</td>\n      <td>...</td>\n      <td>...</td>\n    </tr>\n    <tr>\n      <th>1678</th>\n      <td>0.254854</td>\n      <td>Read this and realize women are kind of stupid...</td>\n      <td>0.254854</td>\n      <td>1</td>\n      <td>0.254854</td>\n    </tr>\n    <tr>\n      <th>1679</th>\n      <td>0.709994</td>\n      <td>You know, maybe being an unattractive virgin i...</td>\n      <td>0.709994</td>\n      <td>1</td>\n      <td>0.709994</td>\n    </tr>\n    <tr>\n      <th>1680</th>\n      <td>0.775813</td>\n      <td>You're right I don't understand nor care to. H...</td>\n      <td>0.775813</td>\n      <td>2</td>\n      <td>0.775813</td>\n    </tr>\n    <tr>\n      <th>1681</th>\n      <td>0.628161</td>\n      <td>Moochelle-ms don't plan ahead. When 85y.o. mar...</td>\n      <td>0.628161</td>\n      <td>2</td>\n      <td>0.628161</td>\n    </tr>\n    <tr>\n      <th>1682</th>\n      <td>0.727157</td>\n      <td>That, and I don't even know how we'd wiggle mo...</td>\n      <td>0.727157</td>\n      <td>2</td>\n      <td>0.727157</td>\n    </tr>\n  </tbody>\n</table>\n<p>1683 rows × 5 columns</p>\n</div>"
     },
     "execution_count": 307,
     "metadata": {},
     "output_type": "execute_result"
    }
   ],
   "source": [
    "test"
   ],
   "metadata": {
    "collapsed": false,
    "pycharm": {
     "name": "#%%\n"
    }
   }
  }
 ],
 "metadata": {
  "kernelspec": {
   "name": "pycharm-37fbb5da",
   "language": "python",
   "display_name": "PyCharm (IFT6289-EDOS)"
  },
  "language_info": {
   "codemirror_mode": {
    "name": "ipython",
    "version": 2
   },
   "file_extension": ".py",
   "mimetype": "text/x-python",
   "name": "python",
   "nbconvert_exporter": "python",
   "pygments_lexer": "ipython2",
   "version": "2.7.6"
  }
 },
 "nbformat": 4,
 "nbformat_minor": 0
}
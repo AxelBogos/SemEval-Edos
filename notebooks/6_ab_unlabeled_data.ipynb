{
 "cells": [
  {
   "cell_type": "code",
   "execution_count": null,
   "metadata": {
    "collapsed": true
   },
   "outputs": [],
   "source": [
    "import os\n",
    "\n",
    "if \"notebooks\" in os.getcwd():\n",
    "    %cd ..\n",
    "from pathlib import Path\n",
    "\n",
    "import matplotlib.pyplot as plt\n",
    "import math\n",
    "import pandas as pd\n",
    "import numpy as np\n",
    "import seaborn as sns\n",
    "from src.utils.defines import INTERIM_DATA_DIR ,AUGMENTED_DATA_DIR, PROCESSED_DATA_DIR, RAW_DATA_DIR\n",
    "import matplotlib.patches as mpatches"
   ]
  },
  {
   "cell_type": "code",
   "execution_count": 340,
   "outputs": [
    {
     "data": {
      "text/plain": "                                                   text  target_b\n0     usa are bitches of the zog gang she needs to g...         0\n1     I probably wouldn't brag about that because us...         3\n2     Now I feel like we should just rib that whore....         0\n3     Not everyone can be brave and talk shit online...         2\n4     And if you don't want to hear racist crap, SEL...         2\n...                                                 ...       ...\n3225  Moochelle-ms don't plan ahead. When 85y.o. mar...         2\n3226  That, and I don't even know how we'd wiggle mo...         2\n3227  We have had msm contact us to ask what it is a...         2\n3228   THAT'S obama's WHORE MUDDER GIMMMY DA FIST DADDY         2\n3229  You forgot about us. White women gave birth to...         2\n\n[3230 rows x 2 columns]",
      "text/html": "<div>\n<style scoped>\n    .dataframe tbody tr th:only-of-type {\n        vertical-align: middle;\n    }\n\n    .dataframe tbody tr th {\n        vertical-align: top;\n    }\n\n    .dataframe thead th {\n        text-align: right;\n    }\n</style>\n<table border=\"1\" class=\"dataframe\">\n  <thead>\n    <tr style=\"text-align: right;\">\n      <th></th>\n      <th>text</th>\n      <th>target_b</th>\n    </tr>\n  </thead>\n  <tbody>\n    <tr>\n      <th>0</th>\n      <td>usa are bitches of the zog gang she needs to g...</td>\n      <td>0</td>\n    </tr>\n    <tr>\n      <th>1</th>\n      <td>I probably wouldn't brag about that because us...</td>\n      <td>3</td>\n    </tr>\n    <tr>\n      <th>2</th>\n      <td>Now I feel like we should just rib that whore....</td>\n      <td>0</td>\n    </tr>\n    <tr>\n      <th>3</th>\n      <td>Not everyone can be brave and talk shit online...</td>\n      <td>2</td>\n    </tr>\n    <tr>\n      <th>4</th>\n      <td>And if you don't want to hear racist crap, SEL...</td>\n      <td>2</td>\n    </tr>\n    <tr>\n      <th>...</th>\n      <td>...</td>\n      <td>...</td>\n    </tr>\n    <tr>\n      <th>3225</th>\n      <td>Moochelle-ms don't plan ahead. When 85y.o. mar...</td>\n      <td>2</td>\n    </tr>\n    <tr>\n      <th>3226</th>\n      <td>That, and I don't even know how we'd wiggle mo...</td>\n      <td>2</td>\n    </tr>\n    <tr>\n      <th>3227</th>\n      <td>We have had msm contact us to ask what it is a...</td>\n      <td>2</td>\n    </tr>\n    <tr>\n      <th>3228</th>\n      <td>THAT'S obama's WHORE MUDDER GIMMMY DA FIST DADDY</td>\n      <td>2</td>\n    </tr>\n    <tr>\n      <th>3229</th>\n      <td>You forgot about us. White women gave birth to...</td>\n      <td>2</td>\n    </tr>\n  </tbody>\n</table>\n<p>3230 rows × 2 columns</p>\n</div>"
     },
     "execution_count": 340,
     "metadata": {},
     "output_type": "execute_result"
    }
   ],
   "source": [
    "######################################################################################################\n",
    "# REFORMAT OUTPUT FROM UNLABELED - task b\n",
    "task_b_labeled = pd.read_csv(os.path.join(PROCESSED_DATA_DIR, \"probs_task_b.csv\"))\n",
    "unlabeled_task_b_GAB = pd.read_csv(os.path.join(PROCESSED_DATA_DIR, \"unlabeled_task_b_GAB.csv\"))\n",
    "# Set a confidence threshold for pseudo-labeling\n",
    "confidence_threshold = 0.80\n",
    "test = np.array(task_b_labeled)\n",
    "\n",
    "# Get the most confident predictions and their indices\n",
    "most_confident_indices = np.where(test.max(axis=1) > confidence_threshold)[0]\n",
    "most_confident_preds = pd.DataFrame(test.argmax(axis=1)[most_confident_indices])\n",
    "most_confident_preds.columns = ['target_b']\n",
    "\n",
    "text_task_b = unlabeled_task_b_GAB.iloc[most_confident_indices].reset_index(drop=True)\n",
    "\n",
    "final_task_b = pd.concat([text_task_b, most_confident_preds],axis=1)\n",
    "final_task_b"
   ],
   "metadata": {
    "collapsed": false,
    "pycharm": {
     "name": "#%%\n"
    }
   }
  },
  {
   "cell_type": "code",
   "execution_count": 341,
   "outputs": [
    {
     "name": "stdout",
     "output_type": "stream",
     "text": [
      "0: 348\n",
      "1: 791\n",
      "2: 1803\n",
      "3: 288\n"
     ]
    }
   ],
   "source": [
    "unique_values, counts = np.unique(most_confident_preds, return_counts=True)\n",
    "\n",
    "for value, count in zip(unique_values, counts):\n",
    "    print(f\"{value}: {count}\")"
   ],
   "metadata": {
    "collapsed": false,
    "pycharm": {
     "name": "#%%\n"
    }
   }
  },
  {
   "cell_type": "code",
   "execution_count": 342,
   "outputs": [],
   "source": [
    "dummy_values = np.random.rand(len(final_task_b))\n",
    "df = final_task_b.copy()\n",
    "df = df.assign(target_a=pd.Series(dummy_values))\n",
    "df = df.assign(target_c=pd.Series(dummy_values))\n",
    "df = df.assign(rewire_id=pd.Series(dummy_values))\n",
    "df = df.reindex(columns=['rewire_id', 'text', 'target_a', 'target_b', 'target_c'])\n",
    "df.to_csv(\"task_b_GAB_aug.csv\", index=False)"
   ],
   "metadata": {
    "collapsed": false,
    "pycharm": {
     "name": "#%%\n"
    }
   }
  }
 ],
 "metadata": {
  "kernelspec": {
   "display_name": "Python 3",
   "language": "python",
   "name": "python3"
  },
  "language_info": {
   "codemirror_mode": {
    "name": "ipython",
    "version": 2
   },
   "file_extension": ".py",
   "mimetype": "text/x-python",
   "name": "python",
   "nbconvert_exporter": "python",
   "pygments_lexer": "ipython2",
   "version": "2.7.6"
  }
 },
 "nbformat": 4,
 "nbformat_minor": 0
}
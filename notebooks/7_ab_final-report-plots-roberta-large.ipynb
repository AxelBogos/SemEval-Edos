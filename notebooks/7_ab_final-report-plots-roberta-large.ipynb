{
 "cells": [
  {
   "cell_type": "code",
   "execution_count": 1,
   "metadata": {
    "collapsed": true
   },
   "outputs": [
    {
     "name": "stdout",
     "output_type": "stream",
     "text": [
      "D:\\SemEval-Edos\n"
     ]
    }
   ],
   "source": [
    "import os\n",
    "\n",
    "if \"notebooks\" in os.getcwd():\n",
    "    %cd ..\n",
    "from pathlib import Path\n",
    "\n",
    "import matplotlib.pyplot as plt\n",
    "import pandas as pd\n",
    "import seaborn as sns\n",
    "from src.utils.defines import INTERIM_DATA_DIR, AUGMENTED_DATA_DIR\n",
    "import matplotlib.patches as mpatches"
   ]
  },
  {
   "cell_type": "code",
   "execution_count": 2,
   "outputs": [],
   "source": [
    "train_df = pd.read_csv(os.path.join(INTERIM_DATA_DIR, \"train.csv\"))\n",
    "val_df = pd.read_csv(os.path.join(INTERIM_DATA_DIR, \"val.csv\"))\n",
    "\n",
    "train_aug_insertion = pd.read_csv(os.path.join(AUGMENTED_DATA_DIR, \"train_augmented_random_insertion_emb.csv\"))\n",
    "train_aug_synonym = pd.read_csv(os.path.join(AUGMENTED_DATA_DIR, \"train_augmented_synonym_replacement_emb.csv\"))\n",
    "\n",
    "train_aug_insertion_sf = pd.read_csv(os.path.join(AUGMENTED_DATA_DIR, \"sf_train_augmented_random_insertion_emb.csv\"))\n",
    "train_aug_synonym_sf = pd.read_csv(os.path.join(AUGMENTED_DATA_DIR, \"sf_train_augmented_synonym_replacement_emb.csv\"))\n",
    "\n",
    "train_rand_swap = pd.read_csv(os.path.join(AUGMENTED_DATA_DIR, \"train_augmented_random_swap.csv\"))\n",
    "train_self_training = pd.read_csv(os.path.join(AUGMENTED_DATA_DIR, \"task_b_GAB_aug.csv\"))\n",
    "train_self_training_reddit = pd.read_csv(os.path.join(AUGMENTED_DATA_DIR, \"task_b_reddit_aug.csv\"))\n",
    "\n",
    "train_self_training_GAB_FULL = pd.read_csv(os.path.join(AUGMENTED_DATA_DIR, \"task_a_GAB_aug_99conf_FULL.csv\"))\n",
    "train_self_training_reddit_FULL = pd.read_csv(os.path.join(AUGMENTED_DATA_DIR, \"task_a_reddit_aug_99conf_FULL.csv\"))"
   ],
   "metadata": {
    "collapsed": false,
    "pycharm": {
     "name": "#%%\n"
    }
   }
  },
  {
   "cell_type": "code",
   "execution_count": null,
   "outputs": [],
   "source": [],
   "metadata": {
    "collapsed": false,
    "pycharm": {
     "name": "#%%\n"
    }
   }
  }
 ],
 "metadata": {
  "kernelspec": {
   "name": "pycharm-37fbb5da",
   "language": "python",
   "display_name": "PyCharm (IFT6289-EDOS)"
  },
  "language_info": {
   "codemirror_mode": {
    "name": "ipython",
    "version": 2
   },
   "file_extension": ".py",
   "mimetype": "text/x-python",
   "name": "python",
   "nbconvert_exporter": "python",
   "pygments_lexer": "ipython2",
   "version": "2.7.6"
  }
 },
 "nbformat": 4,
 "nbformat_minor": 0
}
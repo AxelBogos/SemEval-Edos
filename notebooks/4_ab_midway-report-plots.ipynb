{
 "cells": [
  {
   "cell_type": "code",
   "execution_count": null,
   "metadata": {},
   "outputs": [],
   "source": [
    "import matplotlib.pyplot as plt\n",
    "import seaborn as sns\n",
    "\n",
    "# Set seaborn context and style\n",
    "sns.set_context(\"paper\")\n",
    "sns.set_style(\"whitegrid\")"
   ]
  },
  {
   "cell_type": "code",
   "execution_count": null,
   "metadata": {},
   "outputs": [],
   "source": [
    "plt.figure(figsize=(10, 10))\n",
    "# Data\n",
    "tasks = [\"Task A (2 class)\", \"Task B (4 class)\", \"Task C (11 class)\"]\n",
    "roberta_large_scores = [0.8617, 0.7219, 0.5201]\n",
    "top_competition_scores = [0.8843, 0.7793, 0.6238]\n",
    "leaderboard_rankings = [20, 13, 16]\n",
    "\n",
    "# Calculate differences\n",
    "differences = [top_competition_scores[i] - roberta_large_scores[i] for i in range(len(tasks))]\n",
    "\n",
    "# Create bar plot for differences\n",
    "fig, ax1 = plt.subplots()\n",
    "ax1 = sns.barplot(x=tasks, y=differences, palette=\"muted\")\n",
    "ax1.set_xlabel(\"Tasks\")\n",
    "ax1.set_ylabel(\"Difference Between Competition and Our Top Score\")\n",
    "\n",
    "# Create line plot for leaderboard rankings\n",
    "ax2 = ax1.twinx()\n",
    "ax2.grid(False)\n",
    "ax2 = sns.lineplot(x=tasks, y=leaderboard_rankings, color=\"r\", marker=\"o\")\n",
    "ax2.set_ylabel(\"Leaderboard Ranking \")\n",
    "ax2.invert_yaxis()  # Invert the direction of the right-hand y-axis\n",
    "plt.legend(loc=\"upper left\", labels=[\"Leaderboard Ranking\"])\n",
    "# Show plot\n",
    "plt.savefig(\"top-score-difference-plot.png\")"
   ]
  },
  {
   "cell_type": "code",
   "execution_count": null,
   "metadata": {},
   "outputs": [],
   "source": []
  }
 ],
 "metadata": {
  "kernelspec": {
   "display_name": "Python 3",
   "language": "python",
   "name": "python3"
  },
  "language_info": {
   "codemirror_mode": {
    "name": "ipython",
    "version": 2
   },
   "file_extension": ".py",
   "mimetype": "text/x-python",
   "name": "python",
   "nbconvert_exporter": "python",
   "pygments_lexer": "ipython2",
   "version": "2.7.6"
  }
 },
 "nbformat": 4,
 "nbformat_minor": 0
}

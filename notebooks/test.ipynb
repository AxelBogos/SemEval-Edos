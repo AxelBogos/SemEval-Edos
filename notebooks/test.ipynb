{
 "cells": [
  {
   "cell_type": "code",
   "execution_count": 10,
   "metadata": {
    "collapsed": true
   },
   "outputs": [],
   "source": [
    "import pandas as pd\n",
    "import json\n",
    "# df = pd.read_excel(\"C:/Users/jibao/Desktop/CAE/data_profilin_local/sample_datatype.xlsx\")\n",
    "# report = DataProfilingReport(df).get_report()\n",
    "\n",
    "# print(report)\n",
    "\n",
    "# # save to JSON\n",
    "# with open('C:/Users/jibao/Desktop/CAE/data_profilin_local/sample_datatype_DFE.json', 'w') as f:\n",
    "#     json.dump(report, f)"
   ]
  },
  {
   "cell_type": "code",
   "execution_count": 2,
   "outputs": [
    {
     "name": "stdout",
     "output_type": "stream",
     "text": [
      "<class 'pandas.core.frame.DataFrame'>\n",
      "                                        analysis  \\\n",
      "title                      Data Profiling Report   \n",
      "date_start            2023-04-26 17:54:00.197312   \n",
      "date_end              2023-04-26 17:54:00.911633   \n",
      "duration                          0:00:00.714321   \n",
      "n                                            NaN   \n",
      "n_var                                        NaN   \n",
      "memory_size                                  NaN   \n",
      "record_size                                  NaN   \n",
      "n_cells_missing                              NaN   \n",
      "n_vars_with_missing                          NaN   \n",
      "n_vars_all_missing                           NaN   \n",
      "p_cells_missing                              NaN   \n",
      "types                                        NaN   \n",
      "n_duplicates                                 NaN   \n",
      "p_duplicates                                 NaN   \n",
      "Numeric_rand_numbers                         NaN   \n",
      "Categorical_ac_names                         NaN   \n",
      "Boolean_0_1                                  NaN   \n",
      "DateTime_2010_2022                           NaN   \n",
      "Unsupported_emails                           NaN   \n",
      "\n",
      "                                                                  table  \\\n",
      "title                                                               NaN   \n",
      "date_start                                                          NaN   \n",
      "date_end                                                            NaN   \n",
      "duration                                                            NaN   \n",
      "n                                                                    50   \n",
      "n_var                                                                 5   \n",
      "memory_size                                                        1778   \n",
      "record_size                                                       35.56   \n",
      "n_cells_missing                                                      50   \n",
      "n_vars_with_missing                                                   1   \n",
      "n_vars_all_missing                                                    1   \n",
      "p_cells_missing                                                     0.2   \n",
      "types                 {'Numeric': 1, 'Categorical': 1, 'Boolean': 1,...   \n",
      "n_duplicates                                                          1   \n",
      "p_duplicates                                                       0.02   \n",
      "Numeric_rand_numbers                                                NaN   \n",
      "Categorical_ac_names                                                NaN   \n",
      "Boolean_0_1                                                         NaN   \n",
      "DateTime_2010_2022                                                  NaN   \n",
      "Unsupported_emails                                                  NaN   \n",
      "\n",
      "                                                              variables  \n",
      "title                                                               NaN  \n",
      "date_start                                                          NaN  \n",
      "date_end                                                            NaN  \n",
      "duration                                                            NaN  \n",
      "n                                                                   NaN  \n",
      "n_var                                                               NaN  \n",
      "memory_size                                                         NaN  \n",
      "record_size                                                         NaN  \n",
      "n_cells_missing                                                     NaN  \n",
      "n_vars_with_missing                                                 NaN  \n",
      "n_vars_all_missing                                                  NaN  \n",
      "p_cells_missing                                                     NaN  \n",
      "types                                                               NaN  \n",
      "n_duplicates                                                        NaN  \n",
      "p_duplicates                                                        NaN  \n",
      "Numeric_rand_numbers  {'n_distinct': 44, 'p_distinct': 0.88, 'is_uni...  \n",
      "Categorical_ac_names  {'n_distinct': 5, 'p_distinct': 0.1, 'is_uniqu...  \n",
      "Boolean_0_1           {'n_distinct': 2, 'p_distinct': 0.04, 'is_uniq...  \n",
      "DateTime_2010_2022    {'n_distinct': 49, 'p_distinct': 0.98, 'is_uni...  \n",
      "Unsupported_emails    {'n_distinct': 0, 'p_distinct': 0, 'is_unique'...  \n"
     ]
    }
   ],
   "source": [
    "df = pd.read_json(\"C:/Users/jibao/Desktop/CAE/data_profilin_local/sample_datatype_DFE.json\")\n",
    "print(type(df))\n",
    "print(df)"
   ],
   "metadata": {
    "collapsed": false,
    "pycharm": {
     "name": "#%%\n"
    }
   }
  },
  {
   "cell_type": "code",
   "execution_count": 19,
   "outputs": [],
   "source": [
    "# Load JSON file from disk\n",
    "with open('C:/Users/jibao/Desktop/CAE/data_profilin_local/sample_datatype_DFE.json', 'r') as f:\n",
    "    data = json.load(f)"
   ],
   "metadata": {
    "collapsed": false,
    "pycharm": {
     "name": "#%%\n"
    }
   }
  },
  {
   "cell_type": "code",
   "execution_count": 20,
   "outputs": [
    {
     "data": {
      "text/plain": "{'title': 'Data Profiling Report',\n 'date_start': '2023-04-26 17:54:00.197312',\n 'date_end': '2023-04-26 17:54:00.911633',\n 'duration': '0:00:00.714321'}"
     },
     "execution_count": 20,
     "metadata": {},
     "output_type": "execute_result"
    }
   ],
   "source": [
    "data['analysis']"
   ],
   "metadata": {
    "collapsed": false,
    "pycharm": {
     "name": "#%%\n"
    }
   }
  },
  {
   "cell_type": "code",
   "execution_count": 22,
   "outputs": [
    {
     "data": {
      "text/plain": "                   title                  date_start  \\\n0  Data Profiling Report  2023-04-26 17:54:00.197312   \n\n                     date_end        duration  \n0  2023-04-26 17:54:00.911633  0:00:00.714321  ",
      "text/html": "<div>\n<style scoped>\n    .dataframe tbody tr th:only-of-type {\n        vertical-align: middle;\n    }\n\n    .dataframe tbody tr th {\n        vertical-align: top;\n    }\n\n    .dataframe thead th {\n        text-align: right;\n    }\n</style>\n<table border=\"1\" class=\"dataframe\">\n  <thead>\n    <tr style=\"text-align: right;\">\n      <th></th>\n      <th>title</th>\n      <th>date_start</th>\n      <th>date_end</th>\n      <th>duration</th>\n    </tr>\n  </thead>\n  <tbody>\n    <tr>\n      <th>0</th>\n      <td>Data Profiling Report</td>\n      <td>2023-04-26 17:54:00.197312</td>\n      <td>2023-04-26 17:54:00.911633</td>\n      <td>0:00:00.714321</td>\n    </tr>\n  </tbody>\n</table>\n</div>"
     },
     "execution_count": 22,
     "metadata": {},
     "output_type": "execute_result"
    }
   ],
   "source": [
    "df = pd.json_normalize(data['analysis'])\n",
    "df"
   ],
   "metadata": {
    "collapsed": false,
    "pycharm": {
     "name": "#%%\n"
    }
   }
  }
 ],
 "metadata": {
  "kernelspec": {
   "display_name": "Python 3",
   "language": "python",
   "name": "python3"
  },
  "language_info": {
   "codemirror_mode": {
    "name": "ipython",
    "version": 2
   },
   "file_extension": ".py",
   "mimetype": "text/x-python",
   "name": "python",
   "nbconvert_exporter": "python",
   "pygments_lexer": "ipython2",
   "version": "2.7.6"
  }
 },
 "nbformat": 4,
 "nbformat_minor": 0
}